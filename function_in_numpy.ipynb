{
  "nbformat": 4,
  "nbformat_minor": 0,
  "metadata": {
    "colab": {
      "provenance": [],
      "authorship_tag": "ABX9TyPTVQOSZ9ASLbjMkc9qdHE9",
      "include_colab_link": true
    },
    "kernelspec": {
      "name": "python3",
      "display_name": "Python 3"
    },
    "language_info": {
      "name": "python"
    }
  },
  "cells": [
    {
      "cell_type": "markdown",
      "metadata": {
        "id": "view-in-github",
        "colab_type": "text"
      },
      "source": [
        "<a href=\"https://colab.research.google.com/github/HebaSedik/machine-learning/blob/master/function_in_numpy.ipynb\" target=\"_parent\"><img src=\"https://colab.research.google.com/assets/colab-badge.svg\" alt=\"Open In Colab\"/></a>"
      ]
    },
    {
      "cell_type": "code",
      "execution_count": 1,
      "metadata": {
        "colab": {
          "base_uri": "https://localhost:8080/"
        },
        "id": "WBFdIsukWokP",
        "outputId": "fc97d302-0b35-4c0f-c982-2f5597a9d249"
      },
      "outputs": [
        {
          "output_type": "stream",
          "name": "stdout",
          "text": [
            "[  0.   1.   8.  27.  64. 125. 216. 343. 512. 729.]\n"
          ]
        }
      ],
      "source": [
        "from numpy import *\n",
        "x = fromfunction(lambda i: i**3, (10,))\n",
        "print(x)"
      ]
    },
    {
      "cell_type": "code",
      "source": [
        "from numpy import *\n",
        "x = fromfunction(lambda i: 3 * (i+5)**3, (10,))\n",
        "print(x)"
      ],
      "metadata": {
        "colab": {
          "base_uri": "https://localhost:8080/"
        },
        "id": "ER8Jj-OwWy81",
        "outputId": "4d275c24-3ab9-457e-ce8f-d1b8535d135e"
      },
      "execution_count": 2,
      "outputs": [
        {
          "output_type": "stream",
          "name": "stdout",
          "text": [
            "[ 375.  648. 1029. 1536. 2187. 3000. 3993. 5184. 6591. 8232.]\n"
          ]
        }
      ]
    },
    {
      "cell_type": "code",
      "source": [
        "from numpy import *\n",
        "x = fromfunction(lambda i: i**2, (6,))\n",
        "print(x)"
      ],
      "metadata": {
        "colab": {
          "base_uri": "https://localhost:8080/"
        },
        "id": "pILWD4hOW2y3",
        "outputId": "60d019d3-b5f9-405d-a490-8906899ba554"
      },
      "execution_count": 3,
      "outputs": [
        {
          "output_type": "stream",
          "name": "stdout",
          "text": [
            "[ 0.  1.  4.  9. 16. 25.]\n"
          ]
        }
      ]
    },
    {
      "cell_type": "code",
      "source": [
        "from numpy import *\n",
        "x = fromfunction(lambda i,j: i+j, (4,5))\n",
        "print(x)"
      ],
      "metadata": {
        "colab": {
          "base_uri": "https://localhost:8080/"
        },
        "id": "dxdZYwfFW8ed",
        "outputId": "de50f847-1f68-4c2b-e046-166f6f7c5a76"
      },
      "execution_count": 4,
      "outputs": [
        {
          "output_type": "stream",
          "name": "stdout",
          "text": [
            "[[0. 1. 2. 3. 4.]\n",
            " [1. 2. 3. 4. 5.]\n",
            " [2. 3. 4. 5. 6.]\n",
            " [3. 4. 5. 6. 7.]]\n"
          ]
        }
      ]
    },
    {
      "cell_type": "code",
      "source": [
        "from numpy import *\n",
        "x = fromfunction(lambda i,j: 3*i*j, (2,3))\n",
        "print(x)"
      ],
      "metadata": {
        "colab": {
          "base_uri": "https://localhost:8080/"
        },
        "id": "nJGE6L3yW_Vy",
        "outputId": "66dfcdab-3564-42fc-d09c-3d077cfea41c"
      },
      "execution_count": 5,
      "outputs": [
        {
          "output_type": "stream",
          "name": "stdout",
          "text": [
            "[[0. 0. 0.]\n",
            " [0. 3. 6.]]\n"
          ]
        }
      ]
    },
    {
      "cell_type": "code",
      "source": [
        "from numpy import *\n",
        "x = fromfunction(lambda i,j,k: i+j+k, (2,3,4))\n",
        "print(x)"
      ],
      "metadata": {
        "colab": {
          "base_uri": "https://localhost:8080/"
        },
        "id": "4a-AkwyrXELs",
        "outputId": "c72832a7-b9ab-4b3b-b690-c0d20cd919eb"
      },
      "execution_count": 6,
      "outputs": [
        {
          "output_type": "stream",
          "name": "stdout",
          "text": [
            "[[[0. 1. 2. 3.]\n",
            "  [1. 2. 3. 4.]\n",
            "  [2. 3. 4. 5.]]\n",
            "\n",
            " [[1. 2. 3. 4.]\n",
            "  [2. 3. 4. 5.]\n",
            "  [3. 4. 5. 6.]]]\n"
          ]
        }
      ]
    },
    {
      "cell_type": "code",
      "source": [
        "from numpy import *\n",
        "x = fromfunction(lambda i,j,k: (2*i)+(j**2)*k, (2,3,4))\n",
        "print(x)"
      ],
      "metadata": {
        "colab": {
          "base_uri": "https://localhost:8080/"
        },
        "id": "phHRIB7_XHsF",
        "outputId": "a17d1ccb-0a6a-4494-ba84-1cf2c8f55fa3"
      },
      "execution_count": 7,
      "outputs": [
        {
          "output_type": "stream",
          "name": "stdout",
          "text": [
            "[[[ 0.  0.  0.  0.]\n",
            "  [ 0.  1.  2.  3.]\n",
            "  [ 0.  4.  8. 12.]]\n",
            "\n",
            " [[ 2.  2.  2.  2.]\n",
            "  [ 2.  3.  4.  5.]\n",
            "  [ 2.  6. 10. 14.]]]\n"
          ]
        }
      ]
    },
    {
      "cell_type": "code",
      "source": [
        "from numpy import *\n",
        "def powers(i):\n",
        "    i = i**2\n",
        "    return i\n",
        "x = fromfunction(powers, (9,), dtype=int)\n",
        "print(x)"
      ],
      "metadata": {
        "colab": {
          "base_uri": "https://localhost:8080/"
        },
        "id": "JotNlPmqXLZh",
        "outputId": "5ce42f50-c478-4873-b9c5-d88bff6663f5"
      },
      "execution_count": 8,
      "outputs": [
        {
          "output_type": "stream",
          "name": "stdout",
          "text": [
            "[ 0  1  4  9 16 25 36 49 64]\n"
          ]
        }
      ]
    },
    {
      "cell_type": "code",
      "source": [
        "from numpy import *\n",
        "def powers(i,j):\n",
        "    i = i**j\n",
        "    return i\n",
        "x = fromfunction(powers, (4,5), dtype=int)\n",
        "print(x)"
      ],
      "metadata": {
        "colab": {
          "base_uri": "https://localhost:8080/"
        },
        "id": "8eox49L2XSrp",
        "outputId": "b1f1eb36-eed8-4887-9742-5f7ed845a135"
      },
      "execution_count": 9,
      "outputs": [
        {
          "output_type": "stream",
          "name": "stdout",
          "text": [
            "[[ 1  0  0  0  0]\n",
            " [ 1  1  1  1  1]\n",
            " [ 1  2  4  8 16]\n",
            " [ 1  3  9 27 81]]\n"
          ]
        }
      ]
    },
    {
      "cell_type": "code",
      "source": [
        "from numpy import *\n",
        "m,n = 20, 5\n",
        "def f(i):\n",
        "    return (i % n == 0)\n",
        "x = fromfunction(f, (m,), dtype=int)\n",
        "print(x)"
      ],
      "metadata": {
        "colab": {
          "base_uri": "https://localhost:8080/"
        },
        "id": "ogxcw-6eXWwp",
        "outputId": "8ce553a3-72ff-456e-8833-4201efc2d386"
      },
      "execution_count": 10,
      "outputs": [
        {
          "output_type": "stream",
          "name": "stdout",
          "text": [
            "[ True False False False False  True False False False False  True False\n",
            " False False False  True False False False False]\n"
          ]
        }
      ]
    },
    {
      "cell_type": "code",
      "source": [],
      "metadata": {
        "id": "QbBr220XXbE2"
      },
      "execution_count": null,
      "outputs": []
    }
  ]
}