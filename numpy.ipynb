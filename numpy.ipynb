{
  "nbformat": 4,
  "nbformat_minor": 0,
  "metadata": {
    "colab": {
      "provenance": [],
      "authorship_tag": "ABX9TyND3U9HSGfO7OTcJeHWMc33",
      "include_colab_link": true
    },
    "kernelspec": {
      "name": "python3",
      "display_name": "Python 3"
    },
    "language_info": {
      "name": "python"
    }
  },
  "cells": [
    {
      "cell_type": "markdown",
      "metadata": {
        "id": "view-in-github",
        "colab_type": "text"
      },
      "source": [
        "<a href=\"https://colab.research.google.com/github/HebaSedik/machine-learning/blob/master/numpy.ipynb\" target=\"_parent\"><img src=\"https://colab.research.google.com/assets/colab-badge.svg\" alt=\"Open In Colab\"/></a>"
      ]
    },
    {
      "cell_type": "code",
      "source": [
        "from  numpy import *\n",
        "a = sin(30)\n",
        "b = cos(30)\n",
        "c = tan(30)\n",
        "print(a , b , c)"
      ],
      "metadata": {
        "colab": {
          "base_uri": "https://localhost:8080/"
        },
        "id": "rNVxet2PDMg5",
        "outputId": "0080742f-ffb7-4441-f7e5-23d7b87b57ed"
      },
      "execution_count": null,
      "outputs": [
        {
          "output_type": "stream",
          "name": "stdout",
          "text": [
            "-0.9880316240928618 0.15425144988758405 -6.405331196646276\n"
          ]
        }
      ]
    },
    {
      "cell_type": "code",
      "source": [
        "import numpy as np\n",
        "a = np.sin(30)\n",
        "b = np.cos(30)\n",
        "c = np.tan(30)\n",
        "print(a , b , c)"
      ],
      "metadata": {
        "colab": {
          "base_uri": "https://localhost:8080/"
        },
        "id": "YiQwFPVJDObX",
        "outputId": "2cec5142-8b7d-404f-c1b1-1f0b3c60ba63"
      },
      "execution_count": null,
      "outputs": [
        {
          "output_type": "stream",
          "name": "stdout",
          "text": [
            "-0.9880316240928618 0.15425144988758405 -6.405331196646276\n"
          ]
        }
      ]
    },
    {
      "cell_type": "code",
      "source": [
        "from  numpy import *\n",
        "\n",
        "a = sin(30*np.pi/180)\n",
        "b = cos(30*np.pi/180)\n",
        "c = tan(30*np.pi/180)\n",
        "print(a)\n",
        "print(b)\n",
        "print(c)"
      ],
      "metadata": {
        "colab": {
          "base_uri": "https://localhost:8080/"
        },
        "id": "TcLE_3SaDQG6",
        "outputId": "b92a9e0d-3346-4ce3-f91d-7be41e38313e"
      },
      "execution_count": null,
      "outputs": [
        {
          "output_type": "stream",
          "name": "stdout",
          "text": [
            "0.49999999999999994\n",
            "0.8660254037844387\n",
            "0.5773502691896257\n"
          ]
        }
      ]
    },
    {
      "cell_type": "code",
      "source": [
        "from  numpy import *\n",
        "a = sin(deg2rad(30))\n",
        "b = cos(deg2rad(30))\n",
        "c = tan(deg2rad(30))\n",
        "print(a)\n",
        "print(b)\n",
        "print(c)"
      ],
      "metadata": {
        "colab": {
          "base_uri": "https://localhost:8080/"
        },
        "id": "VIyNMzULDZAh",
        "outputId": "cc4fea1a-cd42-4eac-8890-ac2ff337f85d"
      },
      "execution_count": null,
      "outputs": [
        {
          "output_type": "stream",
          "name": "stdout",
          "text": [
            "0.49999999999999994\n",
            "0.8660254037844387\n",
            "0.5773502691896257\n"
          ]
        }
      ]
    },
    {
      "cell_type": "code",
      "source": [
        "from  numpy import *\n",
        "a = round(3.68528)\n",
        "b = round(3.68528,1)\n",
        "c = round(3.68528,2)\n",
        "d = round(3.68528,3)\n",
        "e = round(3.68528,4)\n",
        "print(a)\n",
        "print(b)\n",
        "print(c)\n",
        "print(d)\n",
        "print(e)"
      ],
      "metadata": {
        "colab": {
          "base_uri": "https://localhost:8080/"
        },
        "id": "lhhfVRBVDclC",
        "outputId": "0d984d28-1ca9-49f2-d5c6-1fa520d4cfe6"
      },
      "execution_count": null,
      "outputs": [
        {
          "output_type": "stream",
          "name": "stdout",
          "text": [
            "4\n",
            "3.7\n",
            "3.69\n",
            "3.685\n",
            "3.6853\n"
          ]
        }
      ]
    },
    {
      "cell_type": "code",
      "source": [
        "from  numpy import *\n",
        "a = floor(3.68528)\n",
        "b = ceil(3.68528)\n",
        "print(a)\n",
        "print(b)"
      ],
      "metadata": {
        "colab": {
          "base_uri": "https://localhost:8080/"
        },
        "id": "ZWoktJx2DdXx",
        "outputId": "d157f375-32ac-47f2-9397-4d68fd9f804d"
      },
      "execution_count": null,
      "outputs": [
        {
          "output_type": "stream",
          "name": "stdout",
          "text": [
            "3.0\n",
            "4.0\n"
          ]
        }
      ]
    },
    {
      "cell_type": "code",
      "source": [
        "from  numpy import *\n",
        "a = mod(20,7)\n",
        "b = power(2,5)\n",
        "print(a)\n",
        "print(b)"
      ],
      "metadata": {
        "colab": {
          "base_uri": "https://localhost:8080/"
        },
        "id": "CWiThj1BDiVR",
        "outputId": "891c0697-bc5a-4846-e5db-77dbc26c5302"
      },
      "execution_count": null,
      "outputs": [
        {
          "output_type": "stream",
          "name": "stdout",
          "text": [
            "6\n",
            "32\n"
          ]
        }
      ]
    },
    {
      "cell_type": "code",
      "source": [
        "from  numpy import *\n",
        "a = [2,3,6,5,4,7,8]\n",
        "b = array(a)\n",
        "print(a)\n",
        "print(b)"
      ],
      "metadata": {
        "colab": {
          "base_uri": "https://localhost:8080/"
        },
        "id": "TzOzHc4ID0Df",
        "outputId": "d54520fb-1a6f-4f63-a956-03262dc537b4"
      },
      "execution_count": null,
      "outputs": [
        {
          "output_type": "stream",
          "name": "stdout",
          "text": [
            "[2, 3, 6, 5, 4, 7, 8]\n",
            "[2 3 6 5 4 7 8]\n"
          ]
        }
      ]
    },
    {
      "cell_type": "code",
      "source": [
        "from  numpy import *\n",
        "a = [[1,2,3],[5,3,6],[9,6,5]]\n",
        "b = array(a)\n",
        "print(a)\n",
        "print(b)"
      ],
      "metadata": {
        "colab": {
          "base_uri": "https://localhost:8080/"
        },
        "id": "CztixqndD9Tu",
        "outputId": "78a74381-a7a6-48dc-830e-375a06ce5fbd"
      },
      "execution_count": null,
      "outputs": [
        {
          "output_type": "stream",
          "name": "stdout",
          "text": [
            "[[1, 2, 3], [5, 3, 6], [9, 6, 5]]\n",
            "[[1 2 3]\n",
            " [5 3 6]\n",
            " [9 6 5]]\n"
          ]
        }
      ]
    },
    {
      "cell_type": "code",
      "execution_count": null,
      "metadata": {
        "colab": {
          "base_uri": "https://localhost:8080/"
        },
        "id": "Qg31ytu_T-zf",
        "outputId": "51e6aa90-8211-4410-e99b-e58ea6099533"
      },
      "outputs": [
        {
          "output_type": "stream",
          "name": "stdout",
          "text": [
            "[[1, 2, 3, 4], [5, 6, 7, 8]]\n",
            "[1, 2, 3, 4]\n",
            "[1 2 3 4]\n",
            "[[1 2 3 4]\n",
            " [5 6 7 8]]\n"
          ]
        }
      ],
      "source": [
        "import numpy as np\n",
        "ps = [1,2,3,4] #array_one_dim\n",
        "ls = [[1,2,3,4],[5,6,7,8]] # array_two_dim\n",
        "array = np.array(ps)\n",
        "array1 = np.array(ls)\n",
        "print(ls)\n",
        "print(ps)\n",
        "print(array)\n",
        "print(array1)"
      ]
    },
    {
      "cell_type": "code",
      "source": [
        "#طباعه مجموعه ارقام\n",
        "import numpy as np\n",
        "arange =np.arange(1,10) #طباعه ارقام\n",
        "print(arange)\n",
        "arange =np.arange(1,10,3)# طباعه ارقام بس هيمشي 3 خطوات مش 1 زي الاول\n",
        "print(arange)\n"
      ],
      "metadata": {
        "colab": {
          "base_uri": "https://localhost:8080/"
        },
        "id": "pz-Oas4AUCDi",
        "outputId": "7fcb3174-c5f8-432d-bccf-adaee50bc2e8"
      },
      "execution_count": null,
      "outputs": [
        {
          "output_type": "stream",
          "name": "stdout",
          "text": [
            "[1 2 3 4 5 6 7 8 9]\n",
            "[1 4 7]\n"
          ]
        }
      ]
    },
    {
      "cell_type": "code",
      "source": [
        "from  numpy import *\n",
        "a = array([range(i, i + 3) for i in [2, 4, 6]])\n",
        "print(a)"
      ],
      "metadata": {
        "colab": {
          "base_uri": "https://localhost:8080/"
        },
        "id": "bqulnEJAEHMO",
        "outputId": "9055f1ce-0059-4745-f119-d5ea4ee7b963"
      },
      "execution_count": null,
      "outputs": [
        {
          "output_type": "stream",
          "name": "stdout",
          "text": [
            "[[2 3 4]\n",
            " [4 5 6]\n",
            " [6 7 8]]\n"
          ]
        }
      ]
    },
    {
      "cell_type": "code",
      "source": [
        "from  numpy import *\n",
        "a = array([('x',3,4.2),('y',4,5.3),('z',5,6.3)],\n",
        "           dtype =[('name','U5'),('number','i2'),\n",
        "                 ('value','f4')])\n",
        "print(a)"
      ],
      "metadata": {
        "colab": {
          "base_uri": "https://localhost:8080/"
        },
        "id": "4aV0xwhLEL7K",
        "outputId": "d988b299-fa15-484f-b7ec-ecdafbc19077"
      },
      "execution_count": null,
      "outputs": [
        {
          "output_type": "stream",
          "name": "stdout",
          "text": [
            "[('x', 3, 4.2) ('y', 4, 5.3) ('z', 5, 6.3)]\n"
          ]
        }
      ]
    },
    {
      "cell_type": "code",
      "source": [
        "from  numpy import *\n",
        "a = empty((3,2))\n",
        "print(a)"
      ],
      "metadata": {
        "colab": {
          "base_uri": "https://localhost:8080/"
        },
        "id": "N3yIun5dEUtu",
        "outputId": "b36c3bf1-910e-4d7c-afdc-c63fc46f8413"
      },
      "execution_count": null,
      "outputs": [
        {
          "output_type": "stream",
          "name": "stdout",
          "text": [
            "[[4.71047433e-310 0.00000000e+000]\n",
            " [6.80672722e-310 6.80672723e-310]\n",
            " [6.80672723e-310 6.80673942e-310]]\n"
          ]
        }
      ]
    },
    {
      "cell_type": "code",
      "source": [
        "#عمل مصفوفه صفريه\n",
        "import numpy as np\n",
        "z = np.zeros(4) # عمل مصفوفه مكونه من اصفار فقط\n",
        "z = np.zeros((4,4)) #عمل مصفوفه صفريه 4 *4\n",
        "print(z)"
      ],
      "metadata": {
        "colab": {
          "base_uri": "https://localhost:8080/"
        },
        "id": "uAQmjZ2OUIpi",
        "outputId": "fbda4ccd-2ffe-4c04-f160-a3b72436b7c7"
      },
      "execution_count": null,
      "outputs": [
        {
          "output_type": "stream",
          "name": "stdout",
          "text": [
            "[[0. 0. 0. 0.]\n",
            " [0. 0. 0. 0.]\n",
            " [0. 0. 0. 0.]\n",
            " [0. 0. 0. 0.]]\n"
          ]
        }
      ]
    },
    {
      "cell_type": "code",
      "source": [
        "#عمل مصفوفه مكونه من 1 فقط\n",
        "import numpy as np\n",
        "z = np.ones(4) # عمل مصفوفه مكونه من واحد فقط\n",
        "z = np.ones((4,4))\n",
        "print(z)"
      ],
      "metadata": {
        "colab": {
          "base_uri": "https://localhost:8080/"
        },
        "id": "H01S3sdaUStB",
        "outputId": "fd814f32-2804-48fc-9a5d-ebd652d49dcd"
      },
      "execution_count": null,
      "outputs": [
        {
          "output_type": "stream",
          "name": "stdout",
          "text": [
            "[[1. 1. 1. 1.]\n",
            " [1. 1. 1. 1.]\n",
            " [1. 1. 1. 1.]\n",
            " [1. 1. 1. 1.]]\n"
          ]
        }
      ]
    },
    {
      "cell_type": "code",
      "source": [
        "from numpy import *\n",
        "a = random.uniform(1,10)\n",
        "b = random.uniform(1,10,20)\n",
        "print(a)\n",
        "print('-------------------------')\n",
        "print(b)\n",
        "print('-------------------------')"
      ],
      "metadata": {
        "colab": {
          "base_uri": "https://localhost:8080/"
        },
        "id": "LwcTMuETEcP_",
        "outputId": "c5bfeacd-bb39-4728-b19d-2b921a116037"
      },
      "execution_count": null,
      "outputs": [
        {
          "output_type": "stream",
          "name": "stdout",
          "text": [
            "8.913482515323158\n",
            "-------------------------\n",
            "[5.21113536 2.58002602 7.15289203 3.34411524 9.53063536 8.79920375\n",
            " 5.11306295 2.47455809 1.34430953 8.44803388 8.11509584 3.9200516\n",
            " 8.05833607 3.0641126  6.62126823 3.18140951 9.1973115  4.12605448\n",
            " 1.91172267 4.93599811]\n",
            "-------------------------\n"
          ]
        }
      ]
    },
    {
      "cell_type": "code",
      "source": [
        "# اظهار مجموعه ارقام عشوائيه\n",
        "import numpy as np\n",
        "r = np.random.rand(5) #بتطلع ارقام عشوائيه بين 0 و 1\n",
        "r = np.random.rand(5,4) #عمل مصفوفه\n",
        "r = np.random.randint(100) #بتطلع ارقام عشوائيه صحيحه\n",
        "r = np.random.randint(100,200) #ارقام صحيحه بين الرقمين دول\n",
        "r = np.random.randint(100,200,5) #بيطلع 5 ارقام بين 100 و 200\n",
        "r = np.random.randint(100,200,(5,2)) #ارقام عشوائيه علي هيئه مصفوفه\n",
        "r = np.random.randint(100,200,20) #بتطلع ارقام عشوائيه صحيحه\n",
        "shape = r.reshape(5,4) #بتعيد تشكيل الارقام ولازم الارقام بتاع المصفوفه تنفع مع رقم العناصر ال عايز اعرضها زي ال 20 ال فوق دي\n",
        "print (r)\n"
      ],
      "metadata": {
        "colab": {
          "base_uri": "https://localhost:8080/"
        },
        "id": "icYfIuoSUVrQ",
        "outputId": "1a9a10d7-9f4d-41ea-e234-0addeac20b2b"
      },
      "execution_count": null,
      "outputs": [
        {
          "output_type": "stream",
          "name": "stdout",
          "text": [
            "[171 129 190 160 138 195 115 129 163 107 167 190 112 104 190 105 139 178\n",
            " 194 139]\n"
          ]
        }
      ]
    },
    {
      "cell_type": "code",
      "source": [
        "from  numpy import *\n",
        "a =random.random((2,3))\n",
        "print(a)"
      ],
      "metadata": {
        "colab": {
          "base_uri": "https://localhost:8080/"
        },
        "id": "NlnFngidEkHq",
        "outputId": "50395865-d5fb-49f6-9b46-7d4f3d6938de"
      },
      "execution_count": null,
      "outputs": [
        {
          "output_type": "stream",
          "name": "stdout",
          "text": [
            "[[0.84542952 0.69587948 0.42549953]\n",
            " [0.16660351 0.51501758 0.802942  ]]\n"
          ]
        }
      ]
    },
    {
      "cell_type": "code",
      "source": [
        "from  numpy import *\n",
        "a =random.normal(0,1,10)\n",
        "print(a)"
      ],
      "metadata": {
        "colab": {
          "base_uri": "https://localhost:8080/"
        },
        "id": "W-dj_QG_Eo3C",
        "outputId": "4e43a903-11e4-4532-e24e-45135c7e8365"
      },
      "execution_count": null,
      "outputs": [
        {
          "output_type": "stream",
          "name": "stdout",
          "text": [
            "[ 0.93549405  0.58596847  0.89367818 -0.05955106 -0.12102119 -0.67548379\n",
            "  0.99185209 -1.01063372 -0.53467999  0.33791216]\n"
          ]
        }
      ]
    },
    {
      "cell_type": "code",
      "source": [
        "#الغبط الارقام\n",
        "import numpy as np\n",
        "numbers =np.arange(1,10)\n",
        "print(numbers)\n",
        "np.random.shuffle(numbers)\n",
        "print('\\n')\n",
        "print(numbers)"
      ],
      "metadata": {
        "colab": {
          "base_uri": "https://localhost:8080/"
        },
        "id": "hEnTa25nUaUz",
        "outputId": "65c2691d-6a6e-4893-c174-e8cd306db8c2"
      },
      "execution_count": null,
      "outputs": [
        {
          "output_type": "stream",
          "name": "stdout",
          "text": [
            "[1 2 3 4 5 6 7 8 9]\n",
            "\n",
            "\n",
            "[7 5 9 1 3 8 2 6 4]\n"
          ]
        }
      ]
    },
    {
      "cell_type": "code",
      "source": [
        "#الغبط مصفوفه بطريقه عشوائيه\n",
        "import numpy as np\n",
        "numbers =np.arange(1,13)\n",
        "numbers_reshaped = numbers.reshape(3,4)\n",
        "print(numbers_reshaped )\n",
        "np.random.shuffle(numbers_reshaped )\n",
        "print('\\n')\n",
        "print(numbers_reshaped )"
      ],
      "metadata": {
        "colab": {
          "base_uri": "https://localhost:8080/"
        },
        "id": "qnMD-KDJUe-p",
        "outputId": "4014a9e4-151e-4d66-8aca-104306c8edf5"
      },
      "execution_count": null,
      "outputs": [
        {
          "output_type": "stream",
          "name": "stdout",
          "text": [
            "[[ 1  2  3  4]\n",
            " [ 5  6  7  8]\n",
            " [ 9 10 11 12]]\n",
            "\n",
            "\n",
            "[[ 9 10 11 12]\n",
            " [ 1  2  3  4]\n",
            " [ 5  6  7  8]]\n"
          ]
        }
      ]
    },
    {
      "cell_type": "code",
      "source": [
        "from  numpy import *\n",
        "a =  random.randint(150)\n",
        "print(a)"
      ],
      "metadata": {
        "colab": {
          "base_uri": "https://localhost:8080/"
        },
        "id": "TfSWFtX9Es6w",
        "outputId": "1a7cdbec-1dcd-40a3-c25a-ffc65172f4f5"
      },
      "execution_count": null,
      "outputs": [
        {
          "output_type": "stream",
          "name": "stdout",
          "text": [
            "11\n"
          ]
        }
      ]
    },
    {
      "cell_type": "code",
      "source": [
        "from  numpy import *\n",
        "a =random.randint(5, size=7)\n",
        "print(a)"
      ],
      "metadata": {
        "colab": {
          "base_uri": "https://localhost:8080/"
        },
        "id": "a0ExfzcCExLb",
        "outputId": "3382f76b-2a57-4127-82ce-a213c74bc8bb"
      },
      "execution_count": null,
      "outputs": [
        {
          "output_type": "stream",
          "name": "stdout",
          "text": [
            "[1 3 3 0 1 3 1]\n"
          ]
        }
      ]
    },
    {
      "cell_type": "code",
      "source": [
        "from  numpy import *\n",
        "a =random.randint(5,20, size=7)\n",
        "print(a)"
      ],
      "metadata": {
        "colab": {
          "base_uri": "https://localhost:8080/"
        },
        "id": "797hQkZ7E32P",
        "outputId": "351f5e4e-331d-423b-8652-0bd488b66ab8"
      },
      "execution_count": null,
      "outputs": [
        {
          "output_type": "stream",
          "name": "stdout",
          "text": [
            "[11  6  9  5 17 18 10]\n"
          ]
        }
      ]
    },
    {
      "cell_type": "code",
      "source": [
        "from  numpy import *\n",
        "a = random.randint(0, 10, (3, 3))\n",
        "print(a)"
      ],
      "metadata": {
        "colab": {
          "base_uri": "https://localhost:8080/"
        },
        "id": "c8QLfZT4E5af",
        "outputId": "0a4128fe-a495-49ae-d9ea-0fdf4abc3f1d"
      },
      "execution_count": null,
      "outputs": [
        {
          "output_type": "stream",
          "name": "stdout",
          "text": [
            "[[0 7 8]\n",
            " [1 8 6]\n",
            " [1 5 5]]\n"
          ]
        }
      ]
    },
    {
      "cell_type": "code",
      "source": [
        "from  numpy import *\n",
        "a = random.randint(5,10, size=(3, 4, 5))\n",
        "print(a)"
      ],
      "metadata": {
        "colab": {
          "base_uri": "https://localhost:8080/"
        },
        "id": "4AVqyKjcE_Jc",
        "outputId": "08e90ea3-a8ba-4c8f-9447-0038bfa4ff5d"
      },
      "execution_count": null,
      "outputs": [
        {
          "output_type": "stream",
          "name": "stdout",
          "text": [
            "[[[6 5 5 8 6]\n",
            "  [5 8 8 7 7]\n",
            "  [7 7 8 5 6]\n",
            "  [6 6 8 7 9]]\n",
            "\n",
            " [[6 8 9 8 9]\n",
            "  [9 6 7 9 6]\n",
            "  [7 5 9 9 7]\n",
            "  [6 6 7 9 6]]\n",
            "\n",
            " [[9 9 7 9 7]\n",
            "  [8 5 6 6 8]\n",
            "  [8 9 9 8 9]\n",
            "  [5 5 7 6 9]]]\n"
          ]
        }
      ]
    },
    {
      "cell_type": "code",
      "source": [
        "from  numpy import *\n",
        "a = random.randint(1,60,25)\n",
        "b = reshape(a,(5,5))\n",
        "print(a)\n",
        "print(b)"
      ],
      "metadata": {
        "colab": {
          "base_uri": "https://localhost:8080/"
        },
        "id": "Qv01vX6xFEjh",
        "outputId": "159f2d6a-5541-4b80-ef1c-c3f70e8543f8"
      },
      "execution_count": null,
      "outputs": [
        {
          "output_type": "stream",
          "name": "stdout",
          "text": [
            "[19 52  1  4 35 24 24 18 17 51 49 47 38 21 34 12 43 53 32 47 16 53 57 58\n",
            " 17]\n",
            "[[19 52  1  4 35]\n",
            " [24 24 18 17 51]\n",
            " [49 47 38 21 34]\n",
            " [12 43 53 32 47]\n",
            " [16 53 57 58 17]]\n"
          ]
        }
      ]
    },
    {
      "cell_type": "code",
      "source": [
        "from  numpy import *\n",
        "a = random.rand(15)\n",
        "print(a)"
      ],
      "metadata": {
        "colab": {
          "base_uri": "https://localhost:8080/"
        },
        "id": "Mbis3g7FFJQZ",
        "outputId": "fd29b784-809c-4a65-eec2-b346272b26e1"
      },
      "execution_count": null,
      "outputs": [
        {
          "output_type": "stream",
          "name": "stdout",
          "text": [
            "[0.72006351 0.54344737 0.29250937 0.55665656 0.52037287 0.68006913\n",
            " 0.26365458 0.15521971 0.128329   0.9899497  0.53235708 0.31245084\n",
            " 0.68032446 0.36820459 0.55884386]\n"
          ]
        }
      ]
    },
    {
      "cell_type": "code",
      "source": [
        "#معرفه تفاصيل عن المصفوفه اكبر رقم\n",
        "import numpy as np\n",
        "numbers =np.random.randint(1,10,(5,5))\n",
        "print(numbers)\n",
        "maximuim = numbers.max()\n",
        "print (\"max :\" +str(maximuim))"
      ],
      "metadata": {
        "colab": {
          "base_uri": "https://localhost:8080/"
        },
        "id": "mkcoV2jrUjke",
        "outputId": "4735841d-455a-4621-820e-c4f426aef24b"
      },
      "execution_count": null,
      "outputs": [
        {
          "output_type": "stream",
          "name": "stdout",
          "text": [
            "[[8 7 6 8 5]\n",
            " [8 6 4 5 9]\n",
            " [9 9 7 1 5]\n",
            " [9 1 8 4 1]\n",
            " [7 2 2 8 2]]\n",
            "max :9\n"
          ]
        }
      ]
    },
    {
      "cell_type": "code",
      "source": [
        "#معرفه اصغر رقم ف المصفوفه\n",
        "import numpy as np\n",
        "numbers =np.random.randint(1,10,(5,5))\n",
        "print(numbers)\n",
        "minmuim = numbers.min()\n",
        "print (\"min :\" +str(minmuim))"
      ],
      "metadata": {
        "colab": {
          "base_uri": "https://localhost:8080/"
        },
        "id": "ZF1HwL0aUm7y",
        "outputId": "fe8092d9-8d27-41f8-c81d-0c2b0344ec2a"
      },
      "execution_count": null,
      "outputs": [
        {
          "output_type": "stream",
          "name": "stdout",
          "text": [
            "[[4 1 8 4 1]\n",
            " [5 7 1 3 4]\n",
            " [1 1 2 9 4]\n",
            " [8 9 3 5 5]\n",
            " [6 2 7 2 5]]\n",
            "min :1\n"
          ]
        }
      ]
    },
    {
      "cell_type": "code",
      "source": [
        "#معرفه مكان اكبر index\n",
        "import numpy as np\n",
        "numbers =np.random.randint(1,20,(5,5))\n",
        "print(numbers)\n",
        "max_index = numbers.argmax()\n",
        "print (\"max index :\" +str(max_index))"
      ],
      "metadata": {
        "colab": {
          "base_uri": "https://localhost:8080/"
        },
        "id": "MPoPlbdlUpqT",
        "outputId": "f8dffa29-ea7a-45fa-e6a7-8dbfed301e53"
      },
      "execution_count": null,
      "outputs": [
        {
          "output_type": "stream",
          "name": "stdout",
          "text": [
            "[[11 11  8 16  5]\n",
            " [ 6 17  4 15 12]\n",
            " [15 16  7  5  9]\n",
            " [17 11 10  4  3]\n",
            " [ 5 16 18  3  8]]\n",
            "max index :22\n"
          ]
        }
      ]
    },
    {
      "cell_type": "code",
      "source": [
        "#معرفه ابعاد المصفوفه\n",
        "import numpy as np\n",
        "numbers =np.random.randint(1,20,(5,5))\n",
        "print(numbers)\n",
        "shape = numbers.shape\n",
        "print (\"shape :\" +str(shape))"
      ],
      "metadata": {
        "colab": {
          "base_uri": "https://localhost:8080/"
        },
        "id": "xGzIv28XUtKo",
        "outputId": "aaf683ed-6916-44d8-f15c-144077d66eec"
      },
      "execution_count": null,
      "outputs": [
        {
          "output_type": "stream",
          "name": "stdout",
          "text": [
            "[[ 2  9 19  1  7]\n",
            " [13 11 17 19 13]\n",
            " [ 2  1  1 17 13]\n",
            " [ 5  6  9 16  6]\n",
            " [17 11 11 12  6]]\n",
            "shape :(5, 5)\n"
          ]
        }
      ]
    },
    {
      "cell_type": "code",
      "source": [
        "#معرفه عدد الصفوف\n",
        "import numpy as np\n",
        "numbers =np.random.randint(1,20,(5,6))\n",
        "print(numbers)\n",
        "shape = numbers.shape[0]\n",
        "print (\"shape :\" +str(shape))"
      ],
      "metadata": {
        "colab": {
          "base_uri": "https://localhost:8080/"
        },
        "id": "SbcUhloHUwr1",
        "outputId": "95360a58-c16e-4fdc-d62e-161192ff193f"
      },
      "execution_count": null,
      "outputs": [
        {
          "output_type": "stream",
          "name": "stdout",
          "text": [
            "[[ 6  6  4  8  7  6]\n",
            " [ 2 16  1 13  6  1]\n",
            " [19  7 12 17 18 17]\n",
            " [12  1 10 15 10 14]\n",
            " [ 7  9 14 10 15  1]]\n",
            "shape :5\n"
          ]
        }
      ]
    },
    {
      "cell_type": "code",
      "source": [
        "#معرفه عدد الاعمده\n",
        "import numpy as np\n",
        "numbers =np.random.randint(1,20,(5,6))\n",
        "print(numbers)\n",
        "shape = numbers.shape[1]\n",
        "print (\"shape :\" +str(shape))"
      ],
      "metadata": {
        "colab": {
          "base_uri": "https://localhost:8080/"
        },
        "id": "6VD1dYpIU0e7",
        "outputId": "cab1feab-092f-4962-b914-fd58b69c29bc"
      },
      "execution_count": null,
      "outputs": [
        {
          "output_type": "stream",
          "name": "stdout",
          "text": [
            "[[19 17  9 13 16  3]\n",
            " [ 6  4 17 12 14  3]\n",
            " [11 14 19  8  1 18]\n",
            " [17 15  8  3 14  8]\n",
            " [18  9  1  1  1 10]]\n",
            "shape :6\n"
          ]
        }
      ]
    },
    {
      "cell_type": "code",
      "source": [
        "#تقريب الارقام بدل الكسور لاعلي رقم\n",
        "import numpy as np\n",
        "numbers =np.ceil(2.3)\n",
        "print(numbers)"
      ],
      "metadata": {
        "colab": {
          "base_uri": "https://localhost:8080/"
        },
        "id": "uCLNUk4ZU5RY",
        "outputId": "869a9440-d7fd-4499-d692-b7864bd32ab0"
      },
      "execution_count": null,
      "outputs": [
        {
          "output_type": "stream",
          "name": "stdout",
          "text": [
            "3.0\n"
          ]
        }
      ]
    },
    {
      "cell_type": "code",
      "source": [
        "#تقريب الارقام لاقل رقم\n",
        "import numpy as np\n",
        "numbers =np.floor(2.3)\n",
        "print(numbers)#"
      ],
      "metadata": {
        "colab": {
          "base_uri": "https://localhost:8080/"
        },
        "id": "uVFroySlU_1U",
        "outputId": "15c8a27a-f0ac-4aaa-f14e-b4829b53c47d"
      },
      "execution_count": null,
      "outputs": [
        {
          "output_type": "stream",
          "name": "stdout",
          "text": [
            "2.0\n"
          ]
        }
      ]
    },
    {
      "cell_type": "code",
      "source": [
        "#تقريب الارقام علي حسب قيمه الكسر\n",
        "import numpy as np\n",
        "numbers1 =np.round(2.3)\n",
        "numbers2 =np.round(2.6)\n",
        "print(numbers1)\n",
        "print(numbers2)"
      ],
      "metadata": {
        "colab": {
          "base_uri": "https://localhost:8080/"
        },
        "id": "PylBcJ3oVC8R",
        "outputId": "771b9c44-1e11-469a-9093-496cdf952bd3"
      },
      "execution_count": null,
      "outputs": [
        {
          "output_type": "stream",
          "name": "stdout",
          "text": [
            "2.0\n",
            "3.0\n"
          ]
        }
      ]
    },
    {
      "cell_type": "code",
      "source": [
        "#داله جمع\n",
        "import numpy as np\n",
        "numbers =np.add(2,3)\n",
        "print(numbers)"
      ],
      "metadata": {
        "colab": {
          "base_uri": "https://localhost:8080/"
        },
        "id": "p213B46lVItp",
        "outputId": "c1f93d0a-add6-4a67-9253-2491b3f86f6f"
      },
      "execution_count": null,
      "outputs": [
        {
          "output_type": "stream",
          "name": "stdout",
          "text": [
            "5\n"
          ]
        }
      ]
    },
    {
      "cell_type": "code",
      "source": [
        "#جمع مصفوفه ورقم\n",
        "import numpy as np\n",
        "matrix = [[1,2,3],[4,5,6],[7,8,9]]\n",
        "add = np.add(matrix,2)\n",
        "print(add)"
      ],
      "metadata": {
        "colab": {
          "base_uri": "https://localhost:8080/"
        },
        "id": "loOaJfkrVMqD",
        "outputId": "0533c914-6a8e-4566-b13e-82dcbe93c03b"
      },
      "execution_count": null,
      "outputs": [
        {
          "output_type": "stream",
          "name": "stdout",
          "text": [
            "[[ 3  4  5]\n",
            " [ 6  7  8]\n",
            " [ 9 10 11]]\n"
          ]
        }
      ]
    },
    {
      "cell_type": "code",
      "source": [
        "#جمع اتنين مصفوفه\n",
        "import numpy as np\n",
        "matrix1 = [[1,2,3],[4,5,6],[7,8,9]]\n",
        "matrix2 = [[1,2,3],[4,5,6],[7,8,9]]\n",
        "add = np.add(matrix1,matrix2)\n",
        "print(add)"
      ],
      "metadata": {
        "colab": {
          "base_uri": "https://localhost:8080/"
        },
        "id": "5q2A5I8wVO5-",
        "outputId": "de4cdd06-ebf9-48f5-8e03-28fb61d7899d"
      },
      "execution_count": null,
      "outputs": [
        {
          "output_type": "stream",
          "name": "stdout",
          "text": [
            "[[ 2  4  6]\n",
            " [ 8 10 12]\n",
            " [14 16 18]]\n"
          ]
        }
      ]
    },
    {
      "cell_type": "code",
      "source": [
        "#داله ضرب\n",
        "import numpy as np\n",
        "add = np.multiply(3,3)\n",
        "print(add)"
      ],
      "metadata": {
        "colab": {
          "base_uri": "https://localhost:8080/"
        },
        "id": "yRgNGhF1VTX9",
        "outputId": "b31bb48c-a20d-4605-cb67-946017199c48"
      },
      "execution_count": null,
      "outputs": [
        {
          "output_type": "stream",
          "name": "stdout",
          "text": [
            "9\n"
          ]
        }
      ]
    },
    {
      "cell_type": "code",
      "source": [
        "#ضرب رقم في مصفوفه\n",
        "import numpy as np\n",
        "matrix = [[1,2,3],[4,5,6],[7,8,9]]\n",
        "add = np.multiply(matrix,2)\n",
        "print(add)"
      ],
      "metadata": {
        "colab": {
          "base_uri": "https://localhost:8080/"
        },
        "id": "BS7BK4v5VWj9",
        "outputId": "beea8599-9db8-44ad-b8c1-1e0039331f5a"
      },
      "execution_count": null,
      "outputs": [
        {
          "output_type": "stream",
          "name": "stdout",
          "text": [
            "[[ 2  4  6]\n",
            " [ 8 10 12]\n",
            " [14 16 18]]\n"
          ]
        }
      ]
    },
    {
      "cell_type": "code",
      "source": [
        "#ضرب مصفوفتين\n",
        "import numpy as np\n",
        "matrix1 = [[1,2,3],[4,5,6],[7,8,9]]\n",
        "matrix2 = [[1,2,3],[4,5,6],[7,8,9]]\n",
        "add = np.multiply(matrix1,matrix2)\n",
        "print(add)"
      ],
      "metadata": {
        "colab": {
          "base_uri": "https://localhost:8080/"
        },
        "id": "hSCmuPwWVcyN",
        "outputId": "a26cd30f-63a8-4411-8741-e6de10117889"
      },
      "execution_count": null,
      "outputs": [
        {
          "output_type": "stream",
          "name": "stdout",
          "text": [
            "[[ 1  4  9]\n",
            " [16 25 36]\n",
            " [49 64 81]]\n"
          ]
        }
      ]
    },
    {
      "cell_type": "code",
      "source": [
        "#قسمه مصفوفتين\n",
        "import numpy as np\n",
        "matrix1 = [[1,2,3],[4,5,6],[7,8,9]]\n",
        "matrix2 = [[1,2,3],[4,5,6],[7,8,9]]\n",
        "add = np.divide(matrix1,matrix2)\n",
        "print(add)"
      ],
      "metadata": {
        "colab": {
          "base_uri": "https://localhost:8080/"
        },
        "id": "pKUwqd8AVfo8",
        "outputId": "98eb9365-3daa-4edb-dc13-def899ef3b3c"
      },
      "execution_count": null,
      "outputs": [
        {
          "output_type": "stream",
          "name": "stdout",
          "text": [
            "[[1. 1. 1.]\n",
            " [1. 1. 1.]\n",
            " [1. 1. 1.]]\n"
          ]
        }
      ]
    },
    {
      "cell_type": "code",
      "source": [
        "from  numpy import *\n",
        "a = random.rand(5,3)\n",
        "print(a)"
      ],
      "metadata": {
        "id": "2zYxICu7Vjoc",
        "colab": {
          "base_uri": "https://localhost:8080/"
        },
        "outputId": "cb875ef4-d24f-422d-aa66-9e5b536e291f"
      },
      "execution_count": null,
      "outputs": [
        {
          "output_type": "stream",
          "name": "stdout",
          "text": [
            "[[0.40646935 0.40620151 0.68318463]\n",
            " [0.55633579 0.65471846 0.59813162]\n",
            " [0.31835369 0.65610904 0.09796584]\n",
            " [0.81177524 0.88699211 0.8226763 ]\n",
            " [0.42082356 0.03201774 0.45689459]]\n"
          ]
        }
      ]
    },
    {
      "cell_type": "code",
      "source": [
        "from  numpy import *\n",
        "a = random.rand(5,3,2)\n",
        "print(a)"
      ],
      "metadata": {
        "colab": {
          "base_uri": "https://localhost:8080/"
        },
        "id": "mBsoYnNoFauw",
        "outputId": "173d5ec1-0790-4b0b-fb4d-b4ccb3255120"
      },
      "execution_count": null,
      "outputs": [
        {
          "output_type": "stream",
          "name": "stdout",
          "text": [
            "[[[0.30807938 0.8344608 ]\n",
            "  [0.68843025 0.76976713]\n",
            "  [0.53736134 0.12558989]]\n",
            "\n",
            " [[0.85591543 0.4165844 ]\n",
            "  [0.49694534 0.85045608]\n",
            "  [0.64071717 0.60040674]]\n",
            "\n",
            " [[0.76397239 0.27041011]\n",
            "  [0.86969883 0.81787571]\n",
            "  [0.45818415 0.51297765]]\n",
            "\n",
            " [[0.32116707 0.52233005]\n",
            "  [0.77882346 0.08351169]\n",
            "  [0.53484302 0.57365038]]\n",
            "\n",
            " [[0.69547389 0.36897192]\n",
            "  [0.03506817 0.90306588]\n",
            "  [0.67741889 0.30856499]]]\n"
          ]
        }
      ]
    },
    {
      "cell_type": "code",
      "source": [
        "from  numpy import *\n",
        "y=[1,2,3,6,9,8,5,4,7,8,9,6,5,9,6]\n",
        "a = random.choice(y)\n",
        "print(a)"
      ],
      "metadata": {
        "colab": {
          "base_uri": "https://localhost:8080/"
        },
        "id": "06UL6FBOFeAW",
        "outputId": "3e58baba-2713-42d5-ef5e-9964c4ebcfc4"
      },
      "execution_count": null,
      "outputs": [
        {
          "output_type": "stream",
          "name": "stdout",
          "text": [
            "6\n"
          ]
        }
      ]
    },
    {
      "cell_type": "code",
      "source": [
        "from  numpy import *\n",
        "y=[1,2,3,6,9,8,5,4,7,8,9,6,5,9,6]\n",
        "a = random.choice(y, size = 5)\n",
        "print(a)"
      ],
      "metadata": {
        "colab": {
          "base_uri": "https://localhost:8080/"
        },
        "id": "wEtnK67eFhWp",
        "outputId": "645abcc3-0be5-4691-c355-f5b3cf7f0ebe"
      },
      "execution_count": null,
      "outputs": [
        {
          "output_type": "stream",
          "name": "stdout",
          "text": [
            "[5 8 8 2 7]\n"
          ]
        }
      ]
    },
    {
      "cell_type": "code",
      "source": [
        "from  numpy import *\n",
        "y=[1,2,3,6,9,8,5,4,7,8,9,6,5,9,6]\n",
        "print(y)\n",
        "random.shuffle(y)\n",
        "print(y)"
      ],
      "metadata": {
        "colab": {
          "base_uri": "https://localhost:8080/"
        },
        "id": "18dP9wXjFl4v",
        "outputId": "037f9cda-21e4-428e-dafb-63638090a8b7"
      },
      "execution_count": null,
      "outputs": [
        {
          "output_type": "stream",
          "name": "stdout",
          "text": [
            "[1, 2, 3, 6, 9, 8, 5, 4, 7, 8, 9, 6, 5, 9, 6]\n",
            "[4, 5, 8, 9, 9, 3, 5, 1, 7, 6, 8, 9, 6, 2, 6]\n"
          ]
        }
      ]
    },
    {
      "cell_type": "code",
      "source": [
        "from  numpy import *\n",
        "a = zeros(8)\n",
        "b = ones(10)\n",
        "print(a)\n",
        "print(b)"
      ],
      "metadata": {
        "colab": {
          "base_uri": "https://localhost:8080/"
        },
        "id": "rtPXe5CuFtQ2",
        "outputId": "38bd6812-b888-4e74-d45a-9c786886202f"
      },
      "execution_count": null,
      "outputs": [
        {
          "output_type": "stream",
          "name": "stdout",
          "text": [
            "[0. 0. 0. 0. 0. 0. 0. 0.]\n",
            "[1. 1. 1. 1. 1. 1. 1. 1. 1. 1.]\n"
          ]
        }
      ]
    },
    {
      "cell_type": "code",
      "source": [
        "from  numpy import *\n",
        "a = zeros((2,3,2))\n",
        "b = ones((2,3,2))\n",
        "print(a)\n",
        "print(b)"
      ],
      "metadata": {
        "colab": {
          "base_uri": "https://localhost:8080/"
        },
        "id": "9EI-7Gt-Fxmn",
        "outputId": "08d3b8ea-751f-419d-a667-227ceb1f3ee4"
      },
      "execution_count": null,
      "outputs": [
        {
          "output_type": "stream",
          "name": "stdout",
          "text": [
            "[[[0. 0.]\n",
            "  [0. 0.]\n",
            "  [0. 0.]]\n",
            "\n",
            " [[0. 0.]\n",
            "  [0. 0.]\n",
            "  [0. 0.]]]\n",
            "[[[1. 1.]\n",
            "  [1. 1.]\n",
            "  [1. 1.]]\n",
            "\n",
            " [[1. 1.]\n",
            "  [1. 1.]\n",
            "  [1. 1.]]]\n"
          ]
        }
      ]
    },
    {
      "cell_type": "code",
      "source": [
        "from  numpy import *\n",
        "a = eye(5)\n",
        "print(a)"
      ],
      "metadata": {
        "colab": {
          "base_uri": "https://localhost:8080/"
        },
        "id": "x9kKsyj6F3dB",
        "outputId": "017f91fa-933f-48c4-d6e1-18f6293ac208"
      },
      "execution_count": null,
      "outputs": [
        {
          "output_type": "stream",
          "name": "stdout",
          "text": [
            "[[1. 0. 0. 0. 0.]\n",
            " [0. 1. 0. 0. 0.]\n",
            " [0. 0. 1. 0. 0.]\n",
            " [0. 0. 0. 1. 0.]\n",
            " [0. 0. 0. 0. 1.]]\n"
          ]
        }
      ]
    },
    {
      "cell_type": "code",
      "source": [
        "from  numpy import *\n",
        "a = full((3, 5), 35)\n",
        "print(a)"
      ],
      "metadata": {
        "colab": {
          "base_uri": "https://localhost:8080/"
        },
        "id": "AHv8ab_jF6EF",
        "outputId": "ab33c917-55d4-4d58-f724-406e9aa2771c"
      },
      "execution_count": null,
      "outputs": [
        {
          "output_type": "stream",
          "name": "stdout",
          "text": [
            "[[35 35 35 35 35]\n",
            " [35 35 35 35 35]\n",
            " [35 35 35 35 35]]\n"
          ]
        }
      ]
    },
    {
      "cell_type": "code",
      "source": [
        "from  numpy import *\n",
        "a =arange(18).reshape(3,6)\n",
        "b =arange(27).reshape(3,3,3)\n",
        "print(a)\n",
        "print(b)"
      ],
      "metadata": {
        "colab": {
          "base_uri": "https://localhost:8080/"
        },
        "id": "omIIP6kRF-bi",
        "outputId": "40b8e3d9-196a-4796-d22f-80d0ed2fcbad"
      },
      "execution_count": null,
      "outputs": [
        {
          "output_type": "stream",
          "name": "stdout",
          "text": [
            "[[ 0  1  2  3  4  5]\n",
            " [ 6  7  8  9 10 11]\n",
            " [12 13 14 15 16 17]]\n",
            "[[[ 0  1  2]\n",
            "  [ 3  4  5]\n",
            "  [ 6  7  8]]\n",
            "\n",
            " [[ 9 10 11]\n",
            "  [12 13 14]\n",
            "  [15 16 17]]\n",
            "\n",
            " [[18 19 20]\n",
            "  [21 22 23]\n",
            "  [24 25 26]]]\n"
          ]
        }
      ]
    },
    {
      "cell_type": "code",
      "source": [
        "from  numpy import *\n",
        "b =linspace(0,30)\n",
        "c =linspace(0,100,5)\n",
        "print(b)\n",
        "print(c)"
      ],
      "metadata": {
        "colab": {
          "base_uri": "https://localhost:8080/"
        },
        "id": "kA7MWIBiGCPG",
        "outputId": "a5163439-f6ad-446d-c9e8-7e09e3ba7a9d"
      },
      "execution_count": null,
      "outputs": [
        {
          "output_type": "stream",
          "name": "stdout",
          "text": [
            "[ 0.          0.6122449   1.2244898   1.83673469  2.44897959  3.06122449\n",
            "  3.67346939  4.28571429  4.89795918  5.51020408  6.12244898  6.73469388\n",
            "  7.34693878  7.95918367  8.57142857  9.18367347  9.79591837 10.40816327\n",
            " 11.02040816 11.63265306 12.24489796 12.85714286 13.46938776 14.08163265\n",
            " 14.69387755 15.30612245 15.91836735 16.53061224 17.14285714 17.75510204\n",
            " 18.36734694 18.97959184 19.59183673 20.20408163 20.81632653 21.42857143\n",
            " 22.04081633 22.65306122 23.26530612 23.87755102 24.48979592 25.10204082\n",
            " 25.71428571 26.32653061 26.93877551 27.55102041 28.16326531 28.7755102\n",
            " 29.3877551  30.        ]\n",
            "[  0.  25.  50.  75. 100.]\n"
          ]
        }
      ]
    },
    {
      "cell_type": "code",
      "source": [
        "from  numpy import *\n",
        "b =linspace(0,30,12).reshape(3,4)\n",
        "c =linspace(0,100,27).reshape(3,3,3)\n",
        "print(b)\n",
        "print(c)"
      ],
      "metadata": {
        "colab": {
          "base_uri": "https://localhost:8080/"
        },
        "id": "-E1BjVImGF9N",
        "outputId": "db5565b8-98a1-4744-f949-14ea7dd58af0"
      },
      "execution_count": null,
      "outputs": [
        {
          "output_type": "stream",
          "name": "stdout",
          "text": [
            "[[ 0.          2.72727273  5.45454545  8.18181818]\n",
            " [10.90909091 13.63636364 16.36363636 19.09090909]\n",
            " [21.81818182 24.54545455 27.27272727 30.        ]]\n",
            "[[[  0.           3.84615385   7.69230769]\n",
            "  [ 11.53846154  15.38461538  19.23076923]\n",
            "  [ 23.07692308  26.92307692  30.76923077]]\n",
            "\n",
            " [[ 34.61538462  38.46153846  42.30769231]\n",
            "  [ 46.15384615  50.          53.84615385]\n",
            "  [ 57.69230769  61.53846154  65.38461538]]\n",
            "\n",
            " [[ 69.23076923  73.07692308  76.92307692]\n",
            "  [ 80.76923077  84.61538462  88.46153846]\n",
            "  [ 92.30769231  96.15384615 100.        ]]]\n"
          ]
        }
      ]
    },
    {
      "cell_type": "code",
      "source": [
        "from numpy import *\n",
        "a =diag(array([5,12,4,-1,3]))\n",
        "b =diag(array([5,12,4,-1,3]),k=3)\n",
        "print(a)\n",
        "print('-------------------------')\n",
        "print(b)\n",
        "print('-------------------------')"
      ],
      "metadata": {
        "colab": {
          "base_uri": "https://localhost:8080/"
        },
        "id": "jjruKZFyGKXs",
        "outputId": "606fffd9-b1d1-4fe8-9e2d-f8e9cab8e642"
      },
      "execution_count": null,
      "outputs": [
        {
          "output_type": "stream",
          "name": "stdout",
          "text": [
            "[[ 5  0  0  0  0]\n",
            " [ 0 12  0  0  0]\n",
            " [ 0  0  4  0  0]\n",
            " [ 0  0  0 -1  0]\n",
            " [ 0  0  0  0  3]]\n",
            "-------------------------\n",
            "[[ 0  0  0  5  0  0  0  0]\n",
            " [ 0  0  0  0 12  0  0  0]\n",
            " [ 0  0  0  0  0  4  0  0]\n",
            " [ 0  0  0  0  0  0 -1  0]\n",
            " [ 0  0  0  0  0  0  0  3]\n",
            " [ 0  0  0  0  0  0  0  0]\n",
            " [ 0  0  0  0  0  0  0  0]\n",
            " [ 0  0  0  0  0  0  0  0]]\n",
            "-------------------------\n"
          ]
        }
      ]
    },
    {
      "cell_type": "code",
      "source": [
        "from  numpy import *\n",
        "a = random.randint(0, 10, (3, 3))\n",
        "b = count_nonzero(a)\n",
        "print(a)\n",
        "print(b)"
      ],
      "metadata": {
        "colab": {
          "base_uri": "https://localhost:8080/"
        },
        "id": "ZNrTWtTgGPd5",
        "outputId": "3d9dce74-184c-4206-d5ee-16ca727826df"
      },
      "execution_count": null,
      "outputs": [
        {
          "output_type": "stream",
          "name": "stdout",
          "text": [
            "[[5 7 9]\n",
            " [3 7 7]\n",
            " [5 8 8]]\n",
            "9\n"
          ]
        }
      ]
    },
    {
      "cell_type": "code",
      "source": [
        "from  numpy import *\n",
        "a = random.randint(0, 10, (3, 3))\n",
        "b = count_nonzero(a>5)\n",
        "c = count_nonzero(a<8)\n",
        "print(a)\n",
        "print(b)\n",
        "print(c)"
      ],
      "metadata": {
        "colab": {
          "base_uri": "https://localhost:8080/"
        },
        "id": "RZ_wXonNGVVk",
        "outputId": "55ec2a8e-c446-4915-fd38-caecd7af878b"
      },
      "execution_count": null,
      "outputs": [
        {
          "output_type": "stream",
          "name": "stdout",
          "text": [
            "[[5 5 2]\n",
            " [5 8 4]\n",
            " [3 3 7]]\n",
            "2\n",
            "8\n"
          ]
        }
      ]
    },
    {
      "cell_type": "code",
      "source": [
        "from  numpy import *\n",
        "a = random.randint(0, 10, (3, 3))\n",
        "b = count_nonzero(a>5,axis=1)\n",
        "c = count_nonzero(a<8,axis=1)\n",
        "print(a)\n",
        "print(b)\n",
        "print(c)"
      ],
      "metadata": {
        "colab": {
          "base_uri": "https://localhost:8080/"
        },
        "id": "keXLFKf7GXmT",
        "outputId": "52d18acf-b027-4865-aa41-bfc7ab83a3a8"
      },
      "execution_count": null,
      "outputs": [
        {
          "output_type": "stream",
          "name": "stdout",
          "text": [
            "[[9 4 2]\n",
            " [0 6 7]\n",
            " [9 2 5]]\n",
            "[1 2 1]\n",
            "[2 3 2]\n"
          ]
        }
      ]
    },
    {
      "cell_type": "code",
      "source": [
        "from  numpy import *\n",
        "a = random.randint(0, 10, (3, 3))\n",
        "b = any(a>5)\n",
        "print(a)\n",
        "print(b)"
      ],
      "metadata": {
        "colab": {
          "base_uri": "https://localhost:8080/"
        },
        "id": "8NSNB7lEGcY1",
        "outputId": "19c434c1-02a4-4f11-bfd7-c84d28c3a4d0"
      },
      "execution_count": null,
      "outputs": [
        {
          "output_type": "stream",
          "name": "stdout",
          "text": [
            "[[7 0 4]\n",
            " [2 1 1]\n",
            " [5 9 7]]\n",
            "True\n"
          ]
        }
      ]
    },
    {
      "cell_type": "code",
      "source": [
        "from  numpy import *\n",
        "a = random.randint(0, 10, (3, 3))\n",
        "b = any(a>5,axis=1)\n",
        "print(a)\n",
        "print(b)"
      ],
      "metadata": {
        "id": "j-QZ3W_MGn0T",
        "outputId": "0171860c-3102-4ce1-ecbb-db652ea69a5f",
        "colab": {
          "base_uri": "https://localhost:8080/"
        }
      },
      "execution_count": null,
      "outputs": [
        {
          "output_type": "stream",
          "name": "stdout",
          "text": [
            "[[7 6 0]\n",
            " [8 6 1]\n",
            " [1 4 7]]\n",
            "[ True  True  True]\n"
          ]
        }
      ]
    },
    {
      "cell_type": "code",
      "source": [
        "from  numpy import *\n",
        "a = random.randint(0, 10, (3, 3))\n",
        "b = all(a>5)\n",
        "print(a)\n",
        "print(b)"
      ],
      "metadata": {
        "id": "P3dBI9J9Gqms",
        "outputId": "04ddd6c4-c38e-4632-c37a-1543ef1d7d18",
        "colab": {
          "base_uri": "https://localhost:8080/"
        }
      },
      "execution_count": null,
      "outputs": [
        {
          "output_type": "stream",
          "name": "stdout",
          "text": [
            "[[0 4 2]\n",
            " [2 8 1]\n",
            " [0 4 9]]\n",
            "False\n"
          ]
        }
      ]
    },
    {
      "cell_type": "code",
      "source": [
        "from numpy import *\n",
        "a =random.randint(5,20, size=9).reshape(3,3)\n",
        "b = a>10\n",
        "c = a<15\n",
        "print(a)\n",
        "print('-------------------------')\n",
        "print(b)\n",
        "print('-------------------------')\n",
        "print(c)"
      ],
      "metadata": {
        "id": "ma2dYOxsGuHX",
        "outputId": "958a34ea-4e15-4d04-c45f-7889c7866421",
        "colab": {
          "base_uri": "https://localhost:8080/"
        }
      },
      "execution_count": null,
      "outputs": [
        {
          "output_type": "stream",
          "name": "stdout",
          "text": [
            "[[ 6 11  7]\n",
            " [11 11 10]\n",
            " [ 9 11 18]]\n",
            "-------------------------\n",
            "[[False  True False]\n",
            " [ True  True False]\n",
            " [False  True  True]]\n",
            "-------------------------\n",
            "[[ True  True  True]\n",
            " [ True  True  True]\n",
            " [ True  True False]]\n"
          ]
        }
      ]
    },
    {
      "cell_type": "code",
      "source": [
        "from  numpy import *\n",
        "a =arange(9).reshape(3,3)\n",
        "b =arange(9).reshape(3,3)\n",
        "c = 2*b\n",
        "d = isclose(a,b,rtol = 0.1)\n",
        "e = isclose(a,c,rtol = 0.1)\n",
        "print(a)\n",
        "print('-------------------------')\n",
        "print(b)\n",
        "print('-------------------------')\n",
        "print(c)\n",
        "print('-------------------------')\n",
        "print(d)\n",
        "print('-------------------------')\n",
        "print(e)"
      ],
      "metadata": {
        "id": "WmeHEgE4GxpE",
        "outputId": "57b95890-1dbd-4d58-b1e3-7a61cc2dc5b0",
        "colab": {
          "base_uri": "https://localhost:8080/"
        }
      },
      "execution_count": null,
      "outputs": [
        {
          "output_type": "stream",
          "name": "stdout",
          "text": [
            "[[0 1 2]\n",
            " [3 4 5]\n",
            " [6 7 8]]\n",
            "-------------------------\n",
            "[[0 1 2]\n",
            " [3 4 5]\n",
            " [6 7 8]]\n",
            "-------------------------\n",
            "[[ 0  2  4]\n",
            " [ 6  8 10]\n",
            " [12 14 16]]\n",
            "-------------------------\n",
            "[[ True  True  True]\n",
            " [ True  True  True]\n",
            " [ True  True  True]]\n",
            "-------------------------\n",
            "[[ True False False]\n",
            " [False False False]\n",
            " [False False False]]\n"
          ]
        }
      ]
    },
    {
      "cell_type": "code",
      "source": [
        "from  numpy import *\n",
        "a =arange(5)\n",
        "b =empty(5)\n",
        "multiply(a, 10, out=b)\n",
        "print(a)\n",
        "print(b)"
      ],
      "metadata": {
        "id": "4HwBtEZNG20f",
        "outputId": "f7e13378-61c0-4298-dbdb-a5e81ccf360e",
        "colab": {
          "base_uri": "https://localhost:8080/"
        }
      },
      "execution_count": null,
      "outputs": [
        {
          "output_type": "stream",
          "name": "stdout",
          "text": [
            "[0 1 2 3 4]\n",
            "[ 0. 10. 20. 30. 40.]\n"
          ]
        }
      ]
    },
    {
      "cell_type": "code",
      "source": [
        "from  numpy import *\n",
        "a =arange(5)\n",
        "b =empty(5)\n",
        "power(a, 4, out=b)\n",
        "print(a)\n",
        "print(b)"
      ],
      "metadata": {
        "id": "K-wn6_AdG90c",
        "outputId": "52b0df4b-0b32-4ce5-f33c-83621f0cf456",
        "colab": {
          "base_uri": "https://localhost:8080/"
        }
      },
      "execution_count": null,
      "outputs": [
        {
          "output_type": "stream",
          "name": "stdout",
          "text": [
            "[0 1 2 3 4]\n",
            "[  0.   1.  16.  81. 256.]\n"
          ]
        }
      ]
    },
    {
      "cell_type": "code",
      "source": [
        "from  numpy import *\n",
        "a =arange(15)\n",
        "b = add.reduce(a)\n",
        "print(a)\n",
        "print(b)"
      ],
      "metadata": {
        "id": "qjsLxEZsHAzW",
        "outputId": "7bd39af6-d5cd-4926-ba54-de412e5bf463",
        "colab": {
          "base_uri": "https://localhost:8080/"
        }
      },
      "execution_count": null,
      "outputs": [
        {
          "output_type": "stream",
          "name": "stdout",
          "text": [
            "[ 0  1  2  3  4  5  6  7  8  9 10 11 12 13 14]\n",
            "105\n"
          ]
        }
      ]
    },
    {
      "cell_type": "code",
      "source": [
        "from  numpy import *\n",
        "a =arange(2,8)\n",
        "b = multiply.reduce(a)\n",
        "print(a)\n",
        "print(b)"
      ],
      "metadata": {
        "id": "t2isf8mrHFnt",
        "outputId": "b77f8cd7-60c6-4c22-ac32-03a97dc9d17a",
        "colab": {
          "base_uri": "https://localhost:8080/"
        }
      },
      "execution_count": null,
      "outputs": [
        {
          "output_type": "stream",
          "name": "stdout",
          "text": [
            "[2 3 4 5 6 7]\n",
            "5040\n"
          ]
        }
      ]
    },
    {
      "cell_type": "code",
      "source": [
        "from  numpy import *\n",
        "a =arange(2,8)\n",
        "b = multiply.outer(a,a)\n",
        "print(a)\n",
        "print(b)"
      ],
      "metadata": {
        "id": "lEny9GCVHLm2",
        "outputId": "e108e7ce-f7cd-4154-d37b-48eb78073a92",
        "colab": {
          "base_uri": "https://localhost:8080/"
        }
      },
      "execution_count": null,
      "outputs": [
        {
          "output_type": "stream",
          "name": "stdout",
          "text": [
            "[2 3 4 5 6 7]\n",
            "[[ 4  6  8 10 12 14]\n",
            " [ 6  9 12 15 18 21]\n",
            " [ 8 12 16 20 24 28]\n",
            " [10 15 20 25 30 35]\n",
            " [12 18 24 30 36 42]\n",
            " [14 21 28 35 42 49]]\n"
          ]
        }
      ]
    },
    {
      "cell_type": "code",
      "source": [
        "from  numpy import *\n",
        "a =arange(10)\n",
        "b = add.accumulate(a)\n",
        "print(a)\n",
        "print(b)"
      ],
      "metadata": {
        "id": "DWZ_grlUHPZo",
        "outputId": "eb2910b0-33dd-4d92-9795-5badb00ec3f3",
        "colab": {
          "base_uri": "https://localhost:8080/"
        }
      },
      "execution_count": null,
      "outputs": [
        {
          "output_type": "stream",
          "name": "stdout",
          "text": [
            "[0 1 2 3 4 5 6 7 8 9]\n",
            "[ 0  1  3  6 10 15 21 28 36 45]\n"
          ]
        }
      ]
    },
    {
      "cell_type": "code",
      "source": [
        "from  numpy import *\n",
        "a =arange(2,8)\n",
        "b = multiply.accumulate(a)\n",
        "print(a)\n",
        "print(b)"
      ],
      "metadata": {
        "id": "ZMfh3cDRHULc",
        "outputId": "9fa12428-35ce-4535-d812-077feb0fe7d3",
        "colab": {
          "base_uri": "https://localhost:8080/"
        }
      },
      "execution_count": null,
      "outputs": [
        {
          "output_type": "stream",
          "name": "stdout",
          "text": [
            "[2 3 4 5 6 7]\n",
            "[   2    6   24  120  720 5040]\n"
          ]
        }
      ]
    },
    {
      "cell_type": "code",
      "source": [
        "from  numpy import *\n",
        "a =arange(12)\n",
        "b = len(a)\n",
        "c = a.reshape(3,4)\n",
        "d = len(c)\n",
        "print(a)\n",
        "print(b)\n",
        "print(c)\n",
        "print(d)"
      ],
      "metadata": {
        "id": "w_EkZn3AHYLP",
        "outputId": "e7643a83-c660-40df-cc3d-cfba98153825",
        "colab": {
          "base_uri": "https://localhost:8080/"
        }
      },
      "execution_count": null,
      "outputs": [
        {
          "output_type": "stream",
          "name": "stdout",
          "text": [
            "[ 0  1  2  3  4  5  6  7  8  9 10 11]\n",
            "12\n",
            "[[ 0  1  2  3]\n",
            " [ 4  5  6  7]\n",
            " [ 8  9 10 11]]\n",
            "3\n"
          ]
        }
      ]
    },
    {
      "cell_type": "code",
      "source": [
        "from  numpy import *\n",
        "a =arange(12)\n",
        "b = a.size\n",
        "c = a.reshape(3,4)\n",
        "d = c.size\n",
        "print(a)\n",
        "print(b)\n",
        "print(c)\n",
        "print(d)"
      ],
      "metadata": {
        "id": "TJX7gueEHcbT",
        "outputId": "5e6c4042-e8c8-4ba2-e2dc-741893dbbfdd",
        "colab": {
          "base_uri": "https://localhost:8080/"
        }
      },
      "execution_count": null,
      "outputs": [
        {
          "output_type": "stream",
          "name": "stdout",
          "text": [
            "[ 0  1  2  3  4  5  6  7  8  9 10 11]\n",
            "12\n",
            "[[ 0  1  2  3]\n",
            " [ 4  5  6  7]\n",
            " [ 8  9 10 11]]\n",
            "12\n"
          ]
        }
      ]
    },
    {
      "cell_type": "code",
      "source": [
        "from  numpy import *\n",
        "a =arange(12)\n",
        "b = a.shape\n",
        "c = a.reshape(3,4)\n",
        "d = c.shape\n",
        "print(a)\n",
        "print(b)\n",
        "print(c)\n",
        "print(d)"
      ],
      "metadata": {
        "id": "1oV8fyEjHhHp",
        "outputId": "49635a5c-c75c-43b1-fb03-8e4345a65905",
        "colab": {
          "base_uri": "https://localhost:8080/"
        }
      },
      "execution_count": null,
      "outputs": [
        {
          "output_type": "stream",
          "name": "stdout",
          "text": [
            "[ 0  1  2  3  4  5  6  7  8  9 10 11]\n",
            "(12,)\n",
            "[[ 0  1  2  3]\n",
            " [ 4  5  6  7]\n",
            " [ 8  9 10 11]]\n",
            "(3, 4)\n"
          ]
        }
      ]
    },
    {
      "cell_type": "code",
      "source": [
        "from  numpy import *\n",
        "a =arange(12)\n",
        "b = a.ndim\n",
        "c = a.reshape(3,4)\n",
        "d = c.ndim\n",
        "print(\"a\",a)\n",
        "print('b',b)\n",
        "print('c',c)\n",
        "print('d',d)"
      ],
      "metadata": {
        "id": "XPSYzHnRHmEi",
        "outputId": "a46291c5-33ea-48fc-ff26-de5a52d21850",
        "colab": {
          "base_uri": "https://localhost:8080/"
        }
      },
      "execution_count": null,
      "outputs": [
        {
          "output_type": "stream",
          "name": "stdout",
          "text": [
            "a [ 0  1  2  3  4  5  6  7  8  9 10 11]\n",
            "b 1\n",
            "c [[ 0  1  2  3]\n",
            " [ 4  5  6  7]\n",
            " [ 8  9 10 11]]\n",
            "d 2\n"
          ]
        }
      ]
    },
    {
      "cell_type": "code",
      "source": [
        "from  numpy import *\n",
        "a =array(['a','d','g','h','j'])\n",
        "b = a.dtype\n",
        "c = arange(12)\n",
        "d = c.reshape(3,4)\n",
        "e = d.dtype\n",
        "print(\"a\",a)\n",
        "print('b',b)\n",
        "print('c',c)\n",
        "print('d',d)\n",
        "print('e',e)"
      ],
      "metadata": {
        "id": "Z-Z9_anMHqxn",
        "outputId": "448c0d93-ca4f-4541-d2fb-722dd04609c3",
        "colab": {
          "base_uri": "https://localhost:8080/"
        }
      },
      "execution_count": null,
      "outputs": [
        {
          "output_type": "stream",
          "name": "stdout",
          "text": [
            "a ['a' 'd' 'g' 'h' 'j']\n",
            "b <U1\n",
            "c [ 0  1  2  3  4  5  6  7  8  9 10 11]\n",
            "d [[ 0  1  2  3]\n",
            " [ 4  5  6  7]\n",
            " [ 8  9 10 11]]\n",
            "e int64\n"
          ]
        }
      ]
    },
    {
      "cell_type": "code",
      "source": [
        "from  numpy import *\n",
        "a = matrix('{} {} ; {} {}'.format(1,2,3,4))\n",
        "b = matrix('{} {} {};{} {} {}'.format(1,2,3,4,5,6))\n",
        "print(a)\n",
        "print(b)"
      ],
      "metadata": {
        "id": "R-gZQ0XCHv52",
        "outputId": "0118a6f0-8670-4f90-9558-32cb75d4ba77",
        "colab": {
          "base_uri": "https://localhost:8080/"
        }
      },
      "execution_count": null,
      "outputs": [
        {
          "output_type": "stream",
          "name": "stdout",
          "text": [
            "[[1 2]\n",
            " [3 4]]\n",
            "[[1 2 3]\n",
            " [4 5 6]]\n"
          ]
        }
      ]
    },
    {
      "cell_type": "code",
      "source": [
        "from  numpy import *\n",
        "a =arange(9)\n",
        "b = a.reshape(3,3)\n",
        "c = trace(b)\n",
        "print(a)\n",
        "print(b)\n",
        "print(c)"
      ],
      "metadata": {
        "id": "Z0e0f3iDIBy8",
        "outputId": "53bb467a-b979-4144-d6b2-d28d82d7a236",
        "colab": {
          "base_uri": "https://localhost:8080/"
        }
      },
      "execution_count": null,
      "outputs": [
        {
          "output_type": "stream",
          "name": "stdout",
          "text": [
            "[0 1 2 3 4 5 6 7 8]\n",
            "[[0 1 2]\n",
            " [3 4 5]\n",
            " [6 7 8]]\n",
            "12\n"
          ]
        }
      ]
    },
    {
      "cell_type": "code",
      "source": [
        "from  numpy import *\n",
        "a =arange(9)\n",
        "b = a.reshape(3,3)\n",
        "c = linalg.det(b)\n",
        "d = linalg.eig(b)\n",
        "print('a',a)\n",
        "print('b',b)\n",
        "print('c',c)\n",
        "print('d',d)"
      ],
      "metadata": {
        "id": "mQ2IYJl6IFpN",
        "outputId": "f4683f01-6649-4a1d-bb28-985f6b5dd5db",
        "colab": {
          "base_uri": "https://localhost:8080/"
        }
      },
      "execution_count": null,
      "outputs": [
        {
          "output_type": "stream",
          "name": "stdout",
          "text": [
            "a [0 1 2 3 4 5 6 7 8]\n",
            "b [[0 1 2]\n",
            " [3 4 5]\n",
            " [6 7 8]]\n",
            "c 0.0\n",
            "d (array([ 1.33484692e+01, -1.34846923e+00, -2.48477279e-16]), array([[ 0.16476382,  0.79969966,  0.40824829],\n",
            "       [ 0.50577448,  0.10420579, -0.81649658],\n",
            "       [ 0.84678513, -0.59128809,  0.40824829]]))\n"
          ]
        }
      ]
    },
    {
      "cell_type": "code",
      "source": [
        "from  numpy import *\n",
        "a =arange(10)\n",
        "c = a[3]\n",
        "d = a[3:9]\n",
        "e = a[3:9:2]\n",
        "f = a[-1]\n",
        "g = a[-3]\n",
        "print('a',a)\n",
        "print('c',c)\n",
        "print('d',d)\n",
        "print('e',e)\n",
        "print('f',f)\n",
        "print('g',g)"
      ],
      "metadata": {
        "id": "wBOdeyUqIKbp",
        "outputId": "fb238df5-a391-45b4-e9a9-f7726d029c10",
        "colab": {
          "base_uri": "https://localhost:8080/"
        }
      },
      "execution_count": null,
      "outputs": [
        {
          "output_type": "stream",
          "name": "stdout",
          "text": [
            "a [0 1 2 3 4 5 6 7 8 9]\n",
            "c 3\n",
            "d [3 4 5 6 7 8]\n",
            "e [3 5 7]\n",
            "f 9\n",
            "g 7\n"
          ]
        }
      ]
    },
    {
      "cell_type": "code",
      "source": [
        "from  numpy import *\n",
        "a =arange(36).reshape(6,6)\n",
        "c = a[3]\n",
        "d = a[3:9]\n",
        "e = a[3:9:2]\n",
        "f = a[-1]\n",
        "g = a[-3]\n",
        "print(a)\n",
        "print('-------------------------')\n",
        "print(c)\n",
        "print('-------------------------')\n",
        "print(d)\n",
        "print('-------------------------')\n",
        "print(e)\n",
        "print('-------------------------')\n",
        "print(f)\n",
        "print('-------------------------')\n",
        "print(g)"
      ],
      "metadata": {
        "id": "O3Er5FqlIet9",
        "outputId": "76979ff1-051d-4a46-9ce4-75ed1ff983c2",
        "colab": {
          "base_uri": "https://localhost:8080/"
        }
      },
      "execution_count": null,
      "outputs": [
        {
          "output_type": "stream",
          "name": "stdout",
          "text": [
            "[[ 0  1  2  3  4  5]\n",
            " [ 6  7  8  9 10 11]\n",
            " [12 13 14 15 16 17]\n",
            " [18 19 20 21 22 23]\n",
            " [24 25 26 27 28 29]\n",
            " [30 31 32 33 34 35]]\n",
            "-------------------------\n",
            "[18 19 20 21 22 23]\n",
            "-------------------------\n",
            "[[18 19 20 21 22 23]\n",
            " [24 25 26 27 28 29]\n",
            " [30 31 32 33 34 35]]\n",
            "-------------------------\n",
            "[[18 19 20 21 22 23]\n",
            " [30 31 32 33 34 35]]\n",
            "-------------------------\n",
            "[30 31 32 33 34 35]\n",
            "-------------------------\n",
            "[18 19 20 21 22 23]\n"
          ]
        }
      ]
    },
    {
      "cell_type": "code",
      "source": [
        "from  numpy import *\n",
        "a =arange(36).reshape(6,6)\n",
        "c = a[3,1]\n",
        "d = a[3,:]\n",
        "e = a[:,2]\n",
        "f = a[:,1:3]\n",
        "g = a[1:2,:]\n",
        "print(a)\n",
        "print('-------------------------')\n",
        "print(c)\n",
        "print('-------------------------')\n",
        "print(d)\n",
        "print('-------------------------')\n",
        "print(e)\n",
        "print('-------------------------')\n",
        "print(f)\n",
        "print('-------------------------')\n",
        "print(g)"
      ],
      "metadata": {
        "id": "21RHM_cfIjuY",
        "outputId": "0fe2201d-18b9-4626-8c47-e4e055d07784",
        "colab": {
          "base_uri": "https://localhost:8080/"
        }
      },
      "execution_count": null,
      "outputs": [
        {
          "output_type": "stream",
          "name": "stdout",
          "text": [
            "[[ 0  1  2  3  4  5]\n",
            " [ 6  7  8  9 10 11]\n",
            " [12 13 14 15 16 17]\n",
            " [18 19 20 21 22 23]\n",
            " [24 25 26 27 28 29]\n",
            " [30 31 32 33 34 35]]\n",
            "-------------------------\n",
            "19\n",
            "-------------------------\n",
            "[18 19 20 21 22 23]\n",
            "-------------------------\n",
            "[ 2  8 14 20 26 32]\n",
            "-------------------------\n",
            "[[ 1  2]\n",
            " [ 7  8]\n",
            " [13 14]\n",
            " [19 20]\n",
            " [25 26]\n",
            " [31 32]]\n",
            "-------------------------\n",
            "[[ 6  7  8  9 10 11]]\n"
          ]
        }
      ]
    },
    {
      "cell_type": "code",
      "source": [
        "from  numpy import *\n",
        "a =arange(36).reshape(6,6)\n",
        "c = a[::2,::3]\n",
        "d = a[::-1,::-1]\n",
        "e = a[:2:-1,:3:-1]\n",
        "f = a[2::2,3::3]\n",
        "g = a[-1::,-1::]\n",
        "print(a)\n",
        "print('-------------------------')\n",
        "print(c)\n",
        "print('-------------------------')\n",
        "print(d)\n",
        "print('-------------------------')\n",
        "print(e)\n",
        "print('-------------------------')\n",
        "print(f)\n",
        "print('-------------------------')\n",
        "print(g)"
      ],
      "metadata": {
        "id": "3GQo_s1iIs22",
        "outputId": "db5a0652-758a-4d31-b705-6dd0f043b62f",
        "colab": {
          "base_uri": "https://localhost:8080/"
        }
      },
      "execution_count": null,
      "outputs": [
        {
          "output_type": "stream",
          "name": "stdout",
          "text": [
            "[[ 0  1  2  3  4  5]\n",
            " [ 6  7  8  9 10 11]\n",
            " [12 13 14 15 16 17]\n",
            " [18 19 20 21 22 23]\n",
            " [24 25 26 27 28 29]\n",
            " [30 31 32 33 34 35]]\n",
            "-------------------------\n",
            "[[ 0  3]\n",
            " [12 15]\n",
            " [24 27]]\n",
            "-------------------------\n",
            "[[35 34 33 32 31 30]\n",
            " [29 28 27 26 25 24]\n",
            " [23 22 21 20 19 18]\n",
            " [17 16 15 14 13 12]\n",
            " [11 10  9  8  7  6]\n",
            " [ 5  4  3  2  1  0]]\n",
            "-------------------------\n",
            "[[35 34]\n",
            " [29 28]\n",
            " [23 22]]\n",
            "-------------------------\n",
            "[[15]\n",
            " [27]]\n",
            "-------------------------\n",
            "[[35]]\n"
          ]
        }
      ]
    },
    {
      "cell_type": "code",
      "source": [
        "from  numpy import *\n",
        "a =arange(16).reshape(4,4)\n",
        "print(a)\n",
        "a[2,3] = 0\n",
        "print(a)\n",
        "a[:,3] = 0\n",
        "print(a)\n",
        "a[2,:] = 0\n",
        "print(a)\n",
        "a[:,:] = 0\n",
        "print(a)"
      ],
      "metadata": {
        "id": "61MYcbmAI2RR",
        "outputId": "52ef4042-c810-4958-ea0e-ae13830642be",
        "colab": {
          "base_uri": "https://localhost:8080/"
        }
      },
      "execution_count": null,
      "outputs": [
        {
          "output_type": "stream",
          "name": "stdout",
          "text": [
            "[[ 0  1  2  3]\n",
            " [ 4  5  6  7]\n",
            " [ 8  9 10 11]\n",
            " [12 13 14 15]]\n",
            "[[ 0  1  2  3]\n",
            " [ 4  5  6  7]\n",
            " [ 8  9 10  0]\n",
            " [12 13 14 15]]\n",
            "[[ 0  1  2  0]\n",
            " [ 4  5  6  0]\n",
            " [ 8  9 10  0]\n",
            " [12 13 14  0]]\n",
            "[[ 0  1  2  0]\n",
            " [ 4  5  6  0]\n",
            " [ 0  0  0  0]\n",
            " [12 13 14  0]]\n",
            "[[0 0 0 0]\n",
            " [0 0 0 0]\n",
            " [0 0 0 0]\n",
            " [0 0 0 0]]\n"
          ]
        }
      ]
    },
    {
      "cell_type": "code",
      "source": [
        "from  numpy import *\n",
        "a =arange(16).reshape(4,4)\n",
        "print(a)\n",
        "b = a[:,1:3]\n",
        "print(b)\n",
        "a[:,:] = 5\n",
        "print(a)\n",
        "print(b)"
      ],
      "metadata": {
        "id": "inql0tE_I52M",
        "outputId": "24c44ba8-9472-44e7-ba25-43386c20c05d",
        "colab": {
          "base_uri": "https://localhost:8080/"
        }
      },
      "execution_count": null,
      "outputs": [
        {
          "output_type": "stream",
          "name": "stdout",
          "text": [
            "[[ 0  1  2  3]\n",
            " [ 4  5  6  7]\n",
            " [ 8  9 10 11]\n",
            " [12 13 14 15]]\n",
            "[[ 1  2]\n",
            " [ 5  6]\n",
            " [ 9 10]\n",
            " [13 14]]\n",
            "[[5 5 5 5]\n",
            " [5 5 5 5]\n",
            " [5 5 5 5]\n",
            " [5 5 5 5]]\n",
            "[[5 5]\n",
            " [5 5]\n",
            " [5 5]\n",
            " [5 5]]\n"
          ]
        }
      ]
    },
    {
      "cell_type": "code",
      "source": [
        "from  numpy import *\n",
        "a =arange(16).reshape(4,4)\n",
        "print(a)\n",
        "b = a[:,1:3].copy()\n",
        "print(b)\n",
        "a[:,:] = 5\n",
        "print(a)\n",
        "print(b)"
      ],
      "metadata": {
        "id": "brLwmiwOI9RW",
        "outputId": "f1c286e5-6b1c-4325-a0d8-097b7cadc817",
        "colab": {
          "base_uri": "https://localhost:8080/"
        }
      },
      "execution_count": null,
      "outputs": [
        {
          "output_type": "stream",
          "name": "stdout",
          "text": [
            "[[ 0  1  2  3]\n",
            " [ 4  5  6  7]\n",
            " [ 8  9 10 11]\n",
            " [12 13 14 15]]\n",
            "[[ 1  2]\n",
            " [ 5  6]\n",
            " [ 9 10]\n",
            " [13 14]]\n",
            "[[5 5 5 5]\n",
            " [5 5 5 5]\n",
            " [5 5 5 5]\n",
            " [5 5 5 5]]\n",
            "[[ 1  2]\n",
            " [ 5  6]\n",
            " [ 9 10]\n",
            " [13 14]]\n"
          ]
        }
      ]
    },
    {
      "cell_type": "code",
      "source": [
        "from  numpy import *\n",
        "a =arange(18).reshape(3,3,2)\n",
        "c = a[1]\n",
        "d = a[1,2]\n",
        "e = a[2,2,1]\n",
        "print(a)\n",
        "print('-------------------------')\n",
        "print(c)\n",
        "print('-------------------------')\n",
        "print(d)\n",
        "print('-------------------------')\n",
        "print(e)"
      ],
      "metadata": {
        "id": "8H0PsfA_I_yJ",
        "outputId": "9eb3b0fe-8f2f-4db5-d1c6-1f002b5d778d",
        "colab": {
          "base_uri": "https://localhost:8080/"
        }
      },
      "execution_count": null,
      "outputs": [
        {
          "output_type": "stream",
          "name": "stdout",
          "text": [
            "[[[ 0  1]\n",
            "  [ 2  3]\n",
            "  [ 4  5]]\n",
            "\n",
            " [[ 6  7]\n",
            "  [ 8  9]\n",
            "  [10 11]]\n",
            "\n",
            " [[12 13]\n",
            "  [14 15]\n",
            "  [16 17]]]\n",
            "-------------------------\n",
            "[[ 6  7]\n",
            " [ 8  9]\n",
            " [10 11]]\n",
            "-------------------------\n",
            "[10 11]\n",
            "-------------------------\n",
            "17\n"
          ]
        }
      ]
    },
    {
      "cell_type": "code",
      "source": [
        "from  numpy import *\n",
        "x = [11,22,33,44,55,66,77,88]\n",
        "x1, x2, x3 = split(x, (3,6))\n",
        "print(x1, x2, x3)\n",
        "x1, x2, x3 = split(x, (1,5))\n",
        "print(x1, x2, x3)\n",
        "x1, x2, x3 = split(x, (6, 3))\n",
        "print(x1, x2, x3)\n",
        "x1, x2, x3 = split(x, (0, 3))\n",
        "print(x1, x2, x3)\n",
        "x1, x2, x3 = split(x, (4, 0))\n",
        "print(x1, x2, x3)"
      ],
      "metadata": {
        "id": "Dvt_zbj-JEfD",
        "outputId": "bb51ee0e-8e29-4a16-a35b-539c81830d4d",
        "colab": {
          "base_uri": "https://localhost:8080/"
        }
      },
      "execution_count": null,
      "outputs": [
        {
          "output_type": "stream",
          "name": "stdout",
          "text": [
            "[11 22 33] [44 55 66] [77 88]\n",
            "[11] [22 33 44 55] [66 77 88]\n",
            "[11 22 33 44 55 66] [] [44 55 66 77 88]\n",
            "[] [11 22 33] [44 55 66 77 88]\n",
            "[11 22 33 44] [] [11 22 33 44 55 66 77 88]\n"
          ]
        }
      ]
    },
    {
      "cell_type": "code",
      "source": [
        "from  numpy import *\n",
        "a =arange(16).reshape(4,4)\n",
        "b = a[2][1]\n",
        "print(a)\n",
        "print(b)"
      ],
      "metadata": {
        "id": "-gk7xx-5JK1V",
        "outputId": "079fa275-d583-4438-ec17-29d12fcf0f31",
        "colab": {
          "base_uri": "https://localhost:8080/"
        }
      },
      "execution_count": null,
      "outputs": [
        {
          "output_type": "stream",
          "name": "stdout",
          "text": [
            "[[ 0  1  2  3]\n",
            " [ 4  5  6  7]\n",
            " [ 8  9 10 11]\n",
            " [12 13 14 15]]\n",
            "9\n"
          ]
        }
      ]
    },
    {
      "cell_type": "code",
      "source": [
        "from  numpy import *\n",
        "a =arange(4).reshape(2,2)\n",
        "b =2*arange(4).reshape(2,2)\n",
        "c = vstack((a,b))\n",
        "print(a)\n",
        "print('-------------------------')\n",
        "print(b)\n",
        "print('-------------------------')\n",
        "print(c)"
      ],
      "metadata": {
        "id": "ndgT46T7JOx-",
        "outputId": "13914225-cc68-4993-b0a7-8de58bd46a48",
        "colab": {
          "base_uri": "https://localhost:8080/"
        }
      },
      "execution_count": null,
      "outputs": [
        {
          "output_type": "stream",
          "name": "stdout",
          "text": [
            "[[0 1]\n",
            " [2 3]]\n",
            "-------------------------\n",
            "[[0 2]\n",
            " [4 6]]\n",
            "-------------------------\n",
            "[[0 1]\n",
            " [2 3]\n",
            " [0 2]\n",
            " [4 6]]\n"
          ]
        }
      ]
    },
    {
      "cell_type": "code",
      "source": [
        "from  numpy import *\n",
        "a =arange(4).reshape(2,2)\n",
        "b =2*arange(4).reshape(2,2)\n",
        "c = hstack((a,b))\n",
        "print(a)\n",
        "print('-------------------------')\n",
        "print(b)\n",
        "print('-------------------------')\n",
        "print(c)"
      ],
      "metadata": {
        "id": "BjpRBmEsJRtK",
        "outputId": "85d792c4-f453-4d0a-a986-95fef7d7316c",
        "colab": {
          "base_uri": "https://localhost:8080/"
        }
      },
      "execution_count": null,
      "outputs": [
        {
          "output_type": "stream",
          "name": "stdout",
          "text": [
            "[[0 1]\n",
            " [2 3]]\n",
            "-------------------------\n",
            "[[0 2]\n",
            " [4 6]]\n",
            "-------------------------\n",
            "[[0 1 0 2]\n",
            " [2 3 4 6]]\n"
          ]
        }
      ]
    },
    {
      "cell_type": "code",
      "source": [
        "from numpy import *\n",
        "a =random.randint(5,20, size=9).reshape(3,3)\n",
        "b =random.randint(5,20, size=9).reshape(3,3)\n",
        "c = concatenate([a,b] , axis = 0)\n",
        "print(a)\n",
        "print('-------------------------')\n",
        "print(b)\n",
        "print('-------------------------')\n",
        "print(c)\n",
        "print('-------------------------')"
      ],
      "metadata": {
        "id": "N9kYFI8MJWIs",
        "outputId": "26465c58-672f-4d1e-a408-c544aaf091e9",
        "colab": {
          "base_uri": "https://localhost:8080/"
        }
      },
      "execution_count": null,
      "outputs": [
        {
          "output_type": "stream",
          "name": "stdout",
          "text": [
            "[[16  6 18]\n",
            " [10  6 19]\n",
            " [11  7 13]]\n",
            "-------------------------\n",
            "[[11  9  7]\n",
            " [11  9  9]\n",
            " [ 8 16 14]]\n",
            "-------------------------\n",
            "[[16  6 18]\n",
            " [10  6 19]\n",
            " [11  7 13]\n",
            " [11  9  7]\n",
            " [11  9  9]\n",
            " [ 8 16 14]]\n",
            "-------------------------\n"
          ]
        }
      ]
    },
    {
      "cell_type": "code",
      "source": [
        "from numpy import *\n",
        "a =random.randint(5,20, size=9).reshape(3,3)\n",
        "b =random.randint(5,20, size=9).reshape(3,3)\n",
        "c = concatenate([a,b] , axis = 1)\n",
        "print(a)\n",
        "print('-------------------------')\n",
        "print(b)\n",
        "print('-------------------------')\n",
        "print(c)\n",
        "print('-------------------------')"
      ],
      "metadata": {
        "id": "W18R8Yb8Jbfs",
        "outputId": "6de64698-92ed-4ce7-d2b3-e6281a2be998",
        "colab": {
          "base_uri": "https://localhost:8080/"
        }
      },
      "execution_count": null,
      "outputs": [
        {
          "output_type": "stream",
          "name": "stdout",
          "text": [
            "[[ 7 19  6]\n",
            " [ 5 15 19]\n",
            " [ 8 15 15]]\n",
            "-------------------------\n",
            "[[13  5 18]\n",
            " [15  8  9]\n",
            " [17 10  7]]\n",
            "-------------------------\n",
            "[[ 7 19  6 13  5 18]\n",
            " [ 5 15 19 15  8  9]\n",
            " [ 8 15 15 17 10  7]]\n",
            "-------------------------\n"
          ]
        }
      ]
    },
    {
      "cell_type": "code",
      "source": [
        "import numpy as np\n",
        "a =np.random.randint(5,20, size=9).reshape(3,3)\n",
        "b = np.max(a)\n",
        "c = np.min(a)\n",
        "d = np.argmax(a)\n",
        "e = np.argmin(a)\n",
        "print(a)\n",
        "print('-------------------------')\n",
        "print(b)\n",
        "print('-------------------------')\n",
        "print(c)\n",
        "print('-------------------------')\n",
        "print(d)\n",
        "print('-------------------------')\n",
        "print(e)"
      ],
      "metadata": {
        "id": "8fy4w2ddJgbb",
        "outputId": "0829f2ef-8fc7-4496-a6d4-0d4d1f11a2ba",
        "colab": {
          "base_uri": "https://localhost:8080/"
        }
      },
      "execution_count": null,
      "outputs": [
        {
          "output_type": "stream",
          "name": "stdout",
          "text": [
            "[[ 9 12 15]\n",
            " [10 12  9]\n",
            " [ 5  7 18]]\n",
            "-------------------------\n",
            "18\n",
            "-------------------------\n",
            "5\n",
            "-------------------------\n",
            "8\n",
            "-------------------------\n",
            "6\n"
          ]
        }
      ]
    },
    {
      "cell_type": "code",
      "source": [
        "from numpy import *\n",
        "a =random.randint(5,20, size=9).reshape(3,3)\n",
        "b = var(a)\n",
        "c = cov(a)\n",
        "print(a)\n",
        "print('-------------------------')\n",
        "print(b)\n",
        "print('-------------------------')\n",
        "print(c)"
      ],
      "metadata": {
        "id": "HS75JGzwJmsN",
        "outputId": "70d40b5b-58ad-49af-c136-c37b54fdae99",
        "colab": {
          "base_uri": "https://localhost:8080/"
        }
      },
      "execution_count": null,
      "outputs": [
        {
          "output_type": "stream",
          "name": "stdout",
          "text": [
            "[[19 19 14]\n",
            " [17  5  8]\n",
            " [14 18  7]]\n",
            "-------------------------\n",
            "26.469135802469136\n",
            "-------------------------\n",
            "[[ 8.33333333  5.         15.        ]\n",
            " [ 5.         39.         -3.        ]\n",
            " [15.         -3.         31.        ]]\n"
          ]
        }
      ]
    },
    {
      "cell_type": "code",
      "source": [],
      "metadata": {
        "id": "6co9-2QGJqvP"
      },
      "execution_count": null,
      "outputs": []
    }
  ]
}