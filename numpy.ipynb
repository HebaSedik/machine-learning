{
  "nbformat": 4,
  "nbformat_minor": 0,
  "metadata": {
    "colab": {
      "provenance": [],
      "authorship_tag": "ABX9TyPoyDUbyYj5fIeNNMo3r7KG",
      "include_colab_link": true
    },
    "kernelspec": {
      "name": "python3",
      "display_name": "Python 3"
    },
    "language_info": {
      "name": "python"
    }
  },
  "cells": [
    {
      "cell_type": "markdown",
      "metadata": {
        "id": "view-in-github",
        "colab_type": "text"
      },
      "source": [
        "<a href=\"https://colab.research.google.com/github/HebaSedik/machine-learning/blob/master/numpy.ipynb\" target=\"_parent\"><img src=\"https://colab.research.google.com/assets/colab-badge.svg\" alt=\"Open In Colab\"/></a>"
      ]
    },
    {
      "cell_type": "code",
      "execution_count": 1,
      "metadata": {
        "colab": {
          "base_uri": "https://localhost:8080/"
        },
        "id": "Qg31ytu_T-zf",
        "outputId": "190a0990-b7a8-43ef-f9d2-62fa61f9169f"
      },
      "outputs": [
        {
          "output_type": "stream",
          "name": "stdout",
          "text": [
            "[[1, 2, 3, 4], [5, 6, 7, 8]]\n",
            "[1, 2, 3, 4]\n",
            "[1 2 3 4]\n",
            "[[1 2 3 4]\n",
            " [5 6 7 8]]\n"
          ]
        }
      ],
      "source": [
        "import numpy as np\n",
        "ps = [1,2,3,4] #array_one_dim\n",
        "ls = [[1,2,3,4],[5,6,7,8]] # array_two_dim\n",
        "array = np.array(ps)\n",
        "array1 = np.array(ls)\n",
        "print(ls)\n",
        "print(ps)\n",
        "print(array)\n",
        "print(array1)"
      ]
    },
    {
      "cell_type": "code",
      "source": [
        "#طباعه مجموعه ارقام\n",
        "import numpy as np\n",
        "arange =np.arange(1,10) #طباعه ارقام\n",
        "print(arange)\n",
        "arange =np.arange(1,10,3)# طباعه ارقام بس هيمشي 3 خطوات مش 1 زي الاول\n",
        "print(arange)\n"
      ],
      "metadata": {
        "colab": {
          "base_uri": "https://localhost:8080/"
        },
        "id": "pz-Oas4AUCDi",
        "outputId": "ed48e5ec-d73a-451b-d0fd-c60d63ad91c2"
      },
      "execution_count": 3,
      "outputs": [
        {
          "output_type": "stream",
          "name": "stdout",
          "text": [
            "[1 2 3 4 5 6 7 8 9]\n",
            "[1 4 7]\n"
          ]
        }
      ]
    },
    {
      "cell_type": "code",
      "source": [
        "#عمل مصفوفه صفريه\n",
        "import numpy as np\n",
        "z = np.zeros(4) # عمل مصفوفه مكونه من اصفار فقط\n",
        "z = np.zeros((4,4)) #عمل مصفوفه صفريه 4 *4\n",
        "print(z)"
      ],
      "metadata": {
        "colab": {
          "base_uri": "https://localhost:8080/"
        },
        "id": "uAQmjZ2OUIpi",
        "outputId": "06bdd501-7d2e-41a2-93b8-c9fbecbcc5ef"
      },
      "execution_count": 4,
      "outputs": [
        {
          "output_type": "stream",
          "name": "stdout",
          "text": [
            "[[0. 0. 0. 0.]\n",
            " [0. 0. 0. 0.]\n",
            " [0. 0. 0. 0.]\n",
            " [0. 0. 0. 0.]]\n"
          ]
        }
      ]
    },
    {
      "cell_type": "code",
      "source": [
        "#عمل مصفوفه مكونه من 1 فقط\n",
        "import numpy as np\n",
        "z = np.ones(4) # عمل مصفوفه مكونه من واحد فقط\n",
        "z = np.ones((4,4))\n",
        "print(z)"
      ],
      "metadata": {
        "colab": {
          "base_uri": "https://localhost:8080/"
        },
        "id": "H01S3sdaUStB",
        "outputId": "75868ce6-548c-4318-fe8c-fd5c12838518"
      },
      "execution_count": 5,
      "outputs": [
        {
          "output_type": "stream",
          "name": "stdout",
          "text": [
            "[[1. 1. 1. 1.]\n",
            " [1. 1. 1. 1.]\n",
            " [1. 1. 1. 1.]\n",
            " [1. 1. 1. 1.]]\n"
          ]
        }
      ]
    },
    {
      "cell_type": "code",
      "source": [
        "# اظهار مجموعه ارقام عشوائيه\n",
        "import numpy as np\n",
        "r = np.random.rand(5) #بتطلع ارقام عشوائيه بين 0 و 1\n",
        "r = np.random.rand(5,4) #عمل مصفوفه\n",
        "r = np.random.randint(100) #بتطلع ارقام عشوائيه صحيحه\n",
        "r = np.random.randint(100,200) #ارقام صحيحه بين الرقمين دول\n",
        "r = np.random.randint(100,200,5) #بيطلع 5 ارقام بين 100 و 200\n",
        "r = np.random.randint(100,200,(5,2)) #ارقام عشوائيه علي هيئه مصفوفه\n",
        "r = np.random.randint(100,200,20) #بتطلع ارقام عشوائيه صحيحه\n",
        "shape = r.reshape(5,4) #بتعيد تشكيل الارقام ولازم الارقام بتاع المصفوفه تنفع مع رقم العناصر ال عايز اعرضها زي ال 20 ال فوق دي\n",
        "print (r)\n"
      ],
      "metadata": {
        "colab": {
          "base_uri": "https://localhost:8080/"
        },
        "id": "icYfIuoSUVrQ",
        "outputId": "5e6e2e5c-6487-4001-f69b-6cda2698d1e4"
      },
      "execution_count": 6,
      "outputs": [
        {
          "output_type": "stream",
          "name": "stdout",
          "text": [
            "[114 132 178 185 162 191 118 161 193 144 116 156 172 198 170 153 179 185\n",
            " 164 133]\n"
          ]
        }
      ]
    },
    {
      "cell_type": "code",
      "source": [
        "#الغبط الارقام\n",
        "import numpy as np\n",
        "numbers =np.arange(1,10)\n",
        "print(numbers)\n",
        "np.random.shuffle(numbers)\n",
        "print('\\n')\n",
        "print(numbers)"
      ],
      "metadata": {
        "colab": {
          "base_uri": "https://localhost:8080/"
        },
        "id": "hEnTa25nUaUz",
        "outputId": "b5f597bf-86d5-4fad-f64b-7c8bf33cc862"
      },
      "execution_count": 7,
      "outputs": [
        {
          "output_type": "stream",
          "name": "stdout",
          "text": [
            "[1 2 3 4 5 6 7 8 9]\n",
            "\n",
            "\n",
            "[9 3 1 4 8 5 7 2 6]\n"
          ]
        }
      ]
    },
    {
      "cell_type": "code",
      "source": [
        "#الغبط مصفوفه بطريقه عشوائيه\n",
        "import numpy as np\n",
        "numbers =np.arange(1,13)\n",
        "numbers_reshaped = numbers.reshape(3,4)\n",
        "print(numbers_reshaped )\n",
        "np.random.shuffle(numbers_reshaped )\n",
        "print('\\n')\n",
        "print(numbers_reshaped )"
      ],
      "metadata": {
        "colab": {
          "base_uri": "https://localhost:8080/"
        },
        "id": "qnMD-KDJUe-p",
        "outputId": "c2e9fe85-2f80-41a2-e1de-01fbbe1d46a5"
      },
      "execution_count": 8,
      "outputs": [
        {
          "output_type": "stream",
          "name": "stdout",
          "text": [
            "[[ 1  2  3  4]\n",
            " [ 5  6  7  8]\n",
            " [ 9 10 11 12]]\n",
            "\n",
            "\n",
            "[[ 5  6  7  8]\n",
            " [ 1  2  3  4]\n",
            " [ 9 10 11 12]]\n"
          ]
        }
      ]
    },
    {
      "cell_type": "code",
      "source": [
        "#معرفه تفاصيل عن المصفوفه اكبر رقم\n",
        "import numpy as np\n",
        "numbers =np.random.randint(1,10,(5,5))\n",
        "print(numbers)\n",
        "maximuim = numbers.max()\n",
        "print (\"max :\" +str(maximuim))"
      ],
      "metadata": {
        "colab": {
          "base_uri": "https://localhost:8080/"
        },
        "id": "mkcoV2jrUjke",
        "outputId": "a74b4e5f-648a-4286-ce77-2346e7085580"
      },
      "execution_count": 9,
      "outputs": [
        {
          "output_type": "stream",
          "name": "stdout",
          "text": [
            "[[1 4 4 2 1]\n",
            " [3 8 3 4 8]\n",
            " [1 8 7 4 8]\n",
            " [8 8 8 4 3]\n",
            " [3 9 2 1 7]]\n",
            "max :9\n"
          ]
        }
      ]
    },
    {
      "cell_type": "code",
      "source": [
        "#معرفه اصغر رقم ف المصفوفه\n",
        "import numpy as np\n",
        "numbers =np.random.randint(1,10,(5,5))\n",
        "print(numbers)\n",
        "minmuim = numbers.min()\n",
        "print (\"min :\" +str(minmuim))"
      ],
      "metadata": {
        "colab": {
          "base_uri": "https://localhost:8080/"
        },
        "id": "ZF1HwL0aUm7y",
        "outputId": "1742a07b-f17d-4875-d1ef-e848d5a9b5e9"
      },
      "execution_count": 10,
      "outputs": [
        {
          "output_type": "stream",
          "name": "stdout",
          "text": [
            "[[5 9 2 8 1]\n",
            " [3 3 4 6 1]\n",
            " [6 7 3 8 1]\n",
            " [6 4 5 3 3]\n",
            " [6 3 1 5 7]]\n",
            "min :1\n"
          ]
        }
      ]
    },
    {
      "cell_type": "code",
      "source": [
        "#معرفه مكان اكبر index\n",
        "import numpy as np\n",
        "numbers =np.random.randint(1,20,(5,5))\n",
        "print(numbers)\n",
        "max_index = numbers.argmax()\n",
        "print (\"max index :\" +str(max_index))"
      ],
      "metadata": {
        "colab": {
          "base_uri": "https://localhost:8080/"
        },
        "id": "MPoPlbdlUpqT",
        "outputId": "3c3c933a-9ec7-47ca-b2af-8c52de84113b"
      },
      "execution_count": 11,
      "outputs": [
        {
          "output_type": "stream",
          "name": "stdout",
          "text": [
            "[[16 11 12  1 18]\n",
            " [11 14 14  3  3]\n",
            " [15  5  1  8 10]\n",
            " [ 5  7 17 15 12]\n",
            " [14  9  5 17  3]]\n",
            "max index :4\n"
          ]
        }
      ]
    },
    {
      "cell_type": "code",
      "source": [
        "#معرفه ابعاد المصفوفه\n",
        "import numpy as np\n",
        "numbers =np.random.randint(1,20,(5,5))\n",
        "print(numbers)\n",
        "shape = numbers.shape\n",
        "print (\"shape :\" +str(shape))"
      ],
      "metadata": {
        "colab": {
          "base_uri": "https://localhost:8080/"
        },
        "id": "xGzIv28XUtKo",
        "outputId": "317dc424-d407-4fcd-c6fc-20a2d05a5d73"
      },
      "execution_count": 12,
      "outputs": [
        {
          "output_type": "stream",
          "name": "stdout",
          "text": [
            "[[ 3 12 18  9  4]\n",
            " [10 13 19  9 11]\n",
            " [ 4  4 11  6 10]\n",
            " [ 9  5 17  9 19]\n",
            " [18 15 14 12 16]]\n",
            "shape :(5, 5)\n"
          ]
        }
      ]
    },
    {
      "cell_type": "code",
      "source": [
        "#معرفه عدد الصفوف\n",
        "import numpy as np\n",
        "numbers =np.random.randint(1,20,(5,6))\n",
        "print(numbers)\n",
        "shape = numbers.shape[0]\n",
        "print (\"shape :\" +str(shape))"
      ],
      "metadata": {
        "colab": {
          "base_uri": "https://localhost:8080/"
        },
        "id": "SbcUhloHUwr1",
        "outputId": "362bf4ee-12b0-4c98-adfd-4973217fec21"
      },
      "execution_count": 13,
      "outputs": [
        {
          "output_type": "stream",
          "name": "stdout",
          "text": [
            "[[19 16  8  4  8  5]\n",
            " [ 7 14 17  2  6  5]\n",
            " [ 6 17 15 11 10  9]\n",
            " [ 8 18 16  7  9 17]\n",
            " [ 4  7  6  4 11 10]]\n",
            "shape :5\n"
          ]
        }
      ]
    },
    {
      "cell_type": "code",
      "source": [
        "#معرفه عدد الاعمده\n",
        "import numpy as np\n",
        "numbers =np.random.randint(1,20,(5,6))\n",
        "print(numbers)\n",
        "shape = numbers.shape[1]\n",
        "print (\"shape :\" +str(shape))"
      ],
      "metadata": {
        "colab": {
          "base_uri": "https://localhost:8080/"
        },
        "id": "6VD1dYpIU0e7",
        "outputId": "87aad82d-0f75-40d1-897c-5ee8817faf0f"
      },
      "execution_count": 14,
      "outputs": [
        {
          "output_type": "stream",
          "name": "stdout",
          "text": [
            "[[ 5  6  3 10 10  5]\n",
            " [10  8  7 19 11 13]\n",
            " [ 5  1 15  6  3  2]\n",
            " [ 9 14  3  4 17 19]\n",
            " [ 1 18 15  5 14  5]]\n",
            "shape :6\n"
          ]
        }
      ]
    },
    {
      "cell_type": "code",
      "source": [
        "#تقريب الارقام بدل الكسور لاعلي رقم\n",
        "import numpy as np\n",
        "numbers =np.ceil(2.3)\n",
        "print(numbers)"
      ],
      "metadata": {
        "colab": {
          "base_uri": "https://localhost:8080/"
        },
        "id": "uCLNUk4ZU5RY",
        "outputId": "b99ef8f0-0b42-40df-eee7-db45652ec871"
      },
      "execution_count": 15,
      "outputs": [
        {
          "output_type": "stream",
          "name": "stdout",
          "text": [
            "3.0\n"
          ]
        }
      ]
    },
    {
      "cell_type": "code",
      "source": [
        "#تقريب الارقام لاقل رقم\n",
        "import numpy as np\n",
        "numbers =np.floor(2.3)\n",
        "print(numbers)#"
      ],
      "metadata": {
        "colab": {
          "base_uri": "https://localhost:8080/"
        },
        "id": "uVFroySlU_1U",
        "outputId": "11844e99-42ef-4563-c5df-eeeee0afa63c"
      },
      "execution_count": 16,
      "outputs": [
        {
          "output_type": "stream",
          "name": "stdout",
          "text": [
            "2.0\n"
          ]
        }
      ]
    },
    {
      "cell_type": "code",
      "source": [
        "#تقريب الارقام علي حسب قيمه الكسر\n",
        "import numpy as np\n",
        "numbers1 =np.round(2.3)\n",
        "numbers2 =np.round(2.6)\n",
        "print(numbers1)\n",
        "print(numbers2)"
      ],
      "metadata": {
        "colab": {
          "base_uri": "https://localhost:8080/"
        },
        "id": "PylBcJ3oVC8R",
        "outputId": "13e9c068-bbe6-4df9-9169-1a5ae128bb3f"
      },
      "execution_count": 17,
      "outputs": [
        {
          "output_type": "stream",
          "name": "stdout",
          "text": [
            "2.0\n",
            "3.0\n"
          ]
        }
      ]
    },
    {
      "cell_type": "code",
      "source": [
        "#داله جمع\n",
        "import numpy as np\n",
        "numbers =np.add(2,3)\n",
        "print(numbers)"
      ],
      "metadata": {
        "colab": {
          "base_uri": "https://localhost:8080/"
        },
        "id": "p213B46lVItp",
        "outputId": "9a8c5f70-75e3-401b-e92b-dac99d5b675c"
      },
      "execution_count": 18,
      "outputs": [
        {
          "output_type": "stream",
          "name": "stdout",
          "text": [
            "5\n"
          ]
        }
      ]
    },
    {
      "cell_type": "code",
      "source": [
        "#جمع مصفوفه ورقم\n",
        "import numpy as np\n",
        "matrix = [[1,2,3],[4,5,6],[7,8,9]]\n",
        "add = np.add(matrix,2)\n",
        "print(add)"
      ],
      "metadata": {
        "colab": {
          "base_uri": "https://localhost:8080/"
        },
        "id": "loOaJfkrVMqD",
        "outputId": "8f5332d9-5bfc-4805-cdf4-0a18bb9ca808"
      },
      "execution_count": 19,
      "outputs": [
        {
          "output_type": "stream",
          "name": "stdout",
          "text": [
            "[[ 3  4  5]\n",
            " [ 6  7  8]\n",
            " [ 9 10 11]]\n"
          ]
        }
      ]
    },
    {
      "cell_type": "code",
      "source": [
        "#جمع اتنين مصفوفه\n",
        "import numpy as np\n",
        "matrix1 = [[1,2,3],[4,5,6],[7,8,9]]\n",
        "matrix2 = [[1,2,3],[4,5,6],[7,8,9]]\n",
        "add = np.add(matrix1,matrix2)\n",
        "print(add)"
      ],
      "metadata": {
        "colab": {
          "base_uri": "https://localhost:8080/"
        },
        "id": "5q2A5I8wVO5-",
        "outputId": "7d3aad40-a849-4780-815d-521643877eb0"
      },
      "execution_count": 20,
      "outputs": [
        {
          "output_type": "stream",
          "name": "stdout",
          "text": [
            "[[ 2  4  6]\n",
            " [ 8 10 12]\n",
            " [14 16 18]]\n"
          ]
        }
      ]
    },
    {
      "cell_type": "code",
      "source": [
        "#داله ضرب\n",
        "import numpy as np\n",
        "add = np.multiply(3,3)\n",
        "print(add)"
      ],
      "metadata": {
        "colab": {
          "base_uri": "https://localhost:8080/"
        },
        "id": "yRgNGhF1VTX9",
        "outputId": "2460ab43-2cb6-4c54-be43-cbf35c2c747f"
      },
      "execution_count": 21,
      "outputs": [
        {
          "output_type": "stream",
          "name": "stdout",
          "text": [
            "9\n"
          ]
        }
      ]
    },
    {
      "cell_type": "code",
      "source": [
        "#ضرب رقم في مصفوفه\n",
        "import numpy as np\n",
        "matrix = [[1,2,3],[4,5,6],[7,8,9]]\n",
        "add = np.multiply(matrix,2)\n",
        "print(add)"
      ],
      "metadata": {
        "colab": {
          "base_uri": "https://localhost:8080/"
        },
        "id": "BS7BK4v5VWj9",
        "outputId": "4dbf2e37-f174-4de1-cf53-5bbc5ae375c1"
      },
      "execution_count": 22,
      "outputs": [
        {
          "output_type": "stream",
          "name": "stdout",
          "text": [
            "[[ 2  4  6]\n",
            " [ 8 10 12]\n",
            " [14 16 18]]\n"
          ]
        }
      ]
    },
    {
      "cell_type": "code",
      "source": [
        "#ضرب مصفوفتين\n",
        "import numpy as np\n",
        "matrix1 = [[1,2,3],[4,5,6],[7,8,9]]\n",
        "matrix2 = [[1,2,3],[4,5,6],[7,8,9]]\n",
        "add = np.multiply(matrix1,matrix2)\n",
        "print(add)"
      ],
      "metadata": {
        "colab": {
          "base_uri": "https://localhost:8080/"
        },
        "id": "hSCmuPwWVcyN",
        "outputId": "a6f2a79d-c55e-419d-97e7-b795736bfda6"
      },
      "execution_count": 23,
      "outputs": [
        {
          "output_type": "stream",
          "name": "stdout",
          "text": [
            "[[ 1  4  9]\n",
            " [16 25 36]\n",
            " [49 64 81]]\n"
          ]
        }
      ]
    },
    {
      "cell_type": "code",
      "source": [
        "#قسمه مصفوفتين\n",
        "import numpy as np\n",
        "matrix1 = [[1,2,3],[4,5,6],[7,8,9]]\n",
        "matrix2 = [[1,2,3],[4,5,6],[7,8,9]]\n",
        "add = np.divide(matrix1,matrix2)\n",
        "print(add)"
      ],
      "metadata": {
        "colab": {
          "base_uri": "https://localhost:8080/"
        },
        "id": "pKUwqd8AVfo8",
        "outputId": "ef872e43-792d-4dc0-fff8-c476e03be640"
      },
      "execution_count": 24,
      "outputs": [
        {
          "output_type": "stream",
          "name": "stdout",
          "text": [
            "[[1. 1. 1.]\n",
            " [1. 1. 1.]\n",
            " [1. 1. 1.]]\n"
          ]
        }
      ]
    },
    {
      "cell_type": "code",
      "source": [],
      "metadata": {
        "id": "2zYxICu7Vjoc"
      },
      "execution_count": null,
      "outputs": []
    }
  ]
}