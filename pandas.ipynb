{
  "nbformat": 4,
  "nbformat_minor": 0,
  "metadata": {
    "colab": {
      "provenance": [],
      "authorship_tag": "ABX9TyNqJ0+GvfFjwHD+/qSVVAq8",
      "include_colab_link": true
    },
    "kernelspec": {
      "name": "python3",
      "display_name": "Python 3"
    },
    "language_info": {
      "name": "python"
    }
  },
  "cells": [
    {
      "cell_type": "markdown",
      "metadata": {
        "id": "view-in-github",
        "colab_type": "text"
      },
      "source": [
        "<a href=\"https://colab.research.google.com/github/HebaSedik/machine-learning/blob/master/pandas.ipynb\" target=\"_parent\"><img src=\"https://colab.research.google.com/assets/colab-badge.svg\" alt=\"Open In Colab\"/></a>"
      ]
    },
    {
      "cell_type": "code",
      "execution_count": 1,
      "metadata": {
        "colab": {
          "base_uri": "https://localhost:8080/"
        },
        "id": "QyuC3W3xV1h5",
        "outputId": "79421d5c-e43c-48a5-8efd-315db5de56dd"
      },
      "outputs": [
        {
          "output_type": "stream",
          "name": "stdout",
          "text": [
            "['heba', 'heba', 'heba2']\n",
            "a     heba\n",
            "b     heba\n",
            "c    heba2\n",
            "dtype: object\n",
            "['heba' 'heba' 'heba2']\n",
            "Index(['a', 'b', 'c'], dtype='object')\n",
            "['heba' 'heba2']\n"
          ]
        }
      ],
      "source": [
        "import pandas as pd\n",
        "ls = [\"heba\" , \"heba\" ,\"heba2\"]\n",
        "#ls = [1,2,3,4,5,6,7]\n",
        "#ser = pd.Series(ls)\n",
        "ser = pd.Series(ls,index=['a','b','c'])\n",
        "print(ls)\n",
        "print(ser)\n",
        "print(ser.values)\n",
        "print(ser.index)\n",
        "print(ser.unique())"
      ]
    },
    {
      "cell_type": "code",
      "source": [
        "import pandas as pd\n",
        "ls = [1,2,3,4,5,6,7]\n",
        "ser = pd.Series(ls)\n",
        "print(ser)\n",
        "print(ser.describe())\n",
        "print(ser.agg(['min']))\n"
      ],
      "metadata": {
        "colab": {
          "base_uri": "https://localhost:8080/"
        },
        "id": "fo9pS5fsV6Sr",
        "outputId": "1f15fadd-3e19-4d8a-cd2d-ec6be57683d6"
      },
      "execution_count": 2,
      "outputs": [
        {
          "output_type": "stream",
          "name": "stdout",
          "text": [
            "0    1\n",
            "1    2\n",
            "2    3\n",
            "3    4\n",
            "4    5\n",
            "5    6\n",
            "6    7\n",
            "dtype: int64\n",
            "count    7.000000\n",
            "mean     4.000000\n",
            "std      2.160247\n",
            "min      1.000000\n",
            "25%      2.500000\n",
            "50%      4.000000\n",
            "75%      5.500000\n",
            "max      7.000000\n",
            "dtype: float64\n",
            "min    1\n",
            "dtype: int64\n"
          ]
        }
      ]
    },
    {
      "cell_type": "code",
      "source": [
        "###serias\n",
        "import pandas as pd\n",
        "ls = [1,2,3,4,5,6,7]\n",
        "frame = pd.DataFrame(ls,index=['a','b','c','d','s','d','f'],columns=['heba'])  #اغير اسامي index\n",
        "print(frame .describe())\n",
        "print(frame.index)\n",
        "print(frame.values)\n",
        "print(frame.columns)\n"
      ],
      "metadata": {
        "colab": {
          "base_uri": "https://localhost:8080/"
        },
        "id": "1Rwg7IlcV92o",
        "outputId": "c91c8cfd-a24b-4c78-cffb-d3d57e5bcd87"
      },
      "execution_count": 4,
      "outputs": [
        {
          "output_type": "stream",
          "name": "stdout",
          "text": [
            "           heba\n",
            "count  7.000000\n",
            "mean   4.000000\n",
            "std    2.160247\n",
            "min    1.000000\n",
            "25%    2.500000\n",
            "50%    4.000000\n",
            "75%    5.500000\n",
            "max    7.000000\n",
            "Index(['a', 'b', 'c', 'd', 's', 'd', 'f'], dtype='object')\n",
            "[[1]\n",
            " [2]\n",
            " [3]\n",
            " [4]\n",
            " [5]\n",
            " [6]\n",
            " [7]]\n",
            "Index(['heba'], dtype='object')\n"
          ]
        }
      ]
    },
    {
      "cell_type": "code",
      "source": [
        "###اضيف اكتر من صف واكتر من عمود\n",
        "import pandas as pd\n",
        "lst1 = [1,2,3] ####مينفعش رقم يبدا ب صفر\n",
        "lst2 = [10,20,30]\n",
        "lst3 = [100,200,300]\n",
        "df = pd.DataFrame([lst1,lst2,lst3],columns= [\"first\",'second','third'])\n",
        "print(df)"
      ],
      "metadata": {
        "colab": {
          "base_uri": "https://localhost:8080/"
        },
        "id": "Jk4fUXRwWAF9",
        "outputId": "24b08bea-7120-4f41-9b2f-a0c5b45a4f77"
      },
      "execution_count": 5,
      "outputs": [
        {
          "output_type": "stream",
          "name": "stdout",
          "text": [
            "   first  second  third\n",
            "0      1       2      3\n",
            "1     10      20     30\n",
            "2    100     200    300\n"
          ]
        }
      ]
    },
    {
      "cell_type": "code",
      "source": [
        "##  اضيف و ادمج\n",
        "import pandas as pd\n",
        "ls = [[1,2],[3,4],[5,6],[7,8]]\n",
        "ls2 = [[\"h\"],[\"e\"],[\"b\"],[\"a\"]]\n",
        "df1 =pd.DataFrame(ls,columns=['name','age'])\n",
        "df2 =pd.DataFrame(ls2,columns=['name2'])\n",
        "print(df1)\n",
        "print('\\n')\n",
        "print(df2)\n",
        "con = pd.concat([df1,df2],axis=1)\n",
        "print(con)\n",
        "df1.insert(1 , 'heba' ,[1,3,6,9])\n",
        "print(df1)"
      ],
      "metadata": {
        "colab": {
          "base_uri": "https://localhost:8080/"
        },
        "id": "cMiEcO4sWFC3",
        "outputId": "47a55856-7c1d-45a9-9bec-5a888ca87bc3"
      },
      "execution_count": 6,
      "outputs": [
        {
          "output_type": "stream",
          "name": "stdout",
          "text": [
            "   name  age\n",
            "0     1    2\n",
            "1     3    4\n",
            "2     5    6\n",
            "3     7    8\n",
            "\n",
            "\n",
            "  name2\n",
            "0     h\n",
            "1     e\n",
            "2     b\n",
            "3     a\n",
            "   name  age name2\n",
            "0     1    2     h\n",
            "1     3    4     e\n",
            "2     5    6     b\n",
            "3     7    8     a\n",
            "   name  heba  age\n",
            "0     1     1    2\n",
            "1     3     3    4\n",
            "2     5     6    6\n",
            "3     7     9    8\n"
          ]
        }
      ]
    }
  ]
}