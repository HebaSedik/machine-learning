{
  "nbformat": 4,
  "nbformat_minor": 0,
  "metadata": {
    "colab": {
      "provenance": [],
      "authorship_tag": "ABX9TyM4Q/5i2/nLZvZ1yc+0F44p",
      "include_colab_link": true
    },
    "kernelspec": {
      "name": "python3",
      "display_name": "Python 3"
    },
    "language_info": {
      "name": "python"
    }
  },
  "cells": [
    {
      "cell_type": "markdown",
      "metadata": {
        "id": "view-in-github",
        "colab_type": "text"
      },
      "source": [
        "<a href=\"https://colab.research.google.com/github/HebaSedik/machine-learning/blob/master/pandas.ipynb\" target=\"_parent\"><img src=\"https://colab.research.google.com/assets/colab-badge.svg\" alt=\"Open In Colab\"/></a>"
      ]
    },
    {
      "cell_type": "code",
      "execution_count": null,
      "metadata": {
        "colab": {
          "base_uri": "https://localhost:8080/"
        },
        "id": "QyuC3W3xV1h5",
        "outputId": "da80949d-a54e-4d3f-e6fb-f8e66d610f83"
      },
      "outputs": [
        {
          "output_type": "stream",
          "name": "stdout",
          "text": [
            "['heba', 'heba', 'heba2']\n",
            "a     heba\n",
            "b     heba\n",
            "c    heba2\n",
            "dtype: object\n",
            "['heba' 'heba' 'heba2']\n",
            "Index(['a', 'b', 'c'], dtype='object')\n",
            "['heba' 'heba2']\n"
          ]
        }
      ],
      "source": [
        "import pandas as pd\n",
        "ls = [\"heba\" , \"heba\" ,\"heba2\"]\n",
        "#ls = [1,2,3,4,5,6,7]\n",
        "#ser = pd.Series(ls)\n",
        "ser = pd.Series(ls,index=['a','b','c'])\n",
        "print(ls)\n",
        "print(ser)\n",
        "print(ser.values)\n",
        "print(ser.index)\n",
        "print(ser.unique())"
      ]
    },
    {
      "cell_type": "code",
      "source": [
        "import pandas as pd\n",
        "ls = [1,2,3,4,5,6,7]\n",
        "ser = pd.Series(ls)\n",
        "print(ser)\n",
        "print(ser.describe())\n",
        "print(ser.agg(['min']))\n"
      ],
      "metadata": {
        "colab": {
          "base_uri": "https://localhost:8080/"
        },
        "id": "fo9pS5fsV6Sr",
        "outputId": "3e0651ea-fc26-472a-c66e-5a8b7768e642"
      },
      "execution_count": null,
      "outputs": [
        {
          "output_type": "stream",
          "name": "stdout",
          "text": [
            "0    1\n",
            "1    2\n",
            "2    3\n",
            "3    4\n",
            "4    5\n",
            "5    6\n",
            "6    7\n",
            "dtype: int64\n",
            "count    7.000000\n",
            "mean     4.000000\n",
            "std      2.160247\n",
            "min      1.000000\n",
            "25%      2.500000\n",
            "50%      4.000000\n",
            "75%      5.500000\n",
            "max      7.000000\n",
            "dtype: float64\n",
            "min    1\n",
            "dtype: int64\n"
          ]
        }
      ]
    },
    {
      "cell_type": "code",
      "source": [
        "###serias\n",
        "import pandas as pd\n",
        "ls = [1,2,3,4,5,6,7]\n",
        "frame = pd.DataFrame(ls,index=['a','b','c','d','s','d','f'],columns=['heba'])  #اغير اسامي index\n",
        "print(frame .describe())\n",
        "print(frame.index)\n",
        "print(frame.values)\n",
        "print(frame.columns)\n",
        "print(frame.keys)"
      ],
      "metadata": {
        "colab": {
          "base_uri": "https://localhost:8080/"
        },
        "id": "1Rwg7IlcV92o",
        "outputId": "04b35519-727d-4435-a6a5-669ca3ccd321"
      },
      "execution_count": null,
      "outputs": [
        {
          "output_type": "stream",
          "name": "stdout",
          "text": [
            "           heba\n",
            "count  7.000000\n",
            "mean   4.000000\n",
            "std    2.160247\n",
            "min    1.000000\n",
            "25%    2.500000\n",
            "50%    4.000000\n",
            "75%    5.500000\n",
            "max    7.000000\n",
            "Index(['a', 'b', 'c', 'd', 's', 'd', 'f'], dtype='object')\n",
            "[[1]\n",
            " [2]\n",
            " [3]\n",
            " [4]\n",
            " [5]\n",
            " [6]\n",
            " [7]]\n",
            "Index(['heba'], dtype='object')\n",
            "<bound method NDFrame.keys of    heba\n",
            "a     1\n",
            "b     2\n",
            "c     3\n",
            "d     4\n",
            "s     5\n",
            "d     6\n",
            "f     7>\n"
          ]
        }
      ]
    },
    {
      "cell_type": "code",
      "source": [
        "###اضيف اكتر من صف واكتر من عمود\n",
        "import pandas as pd\n",
        "lst1 = [1,2,3] ####مينفعش رقم يبدا ب صفر\n",
        "lst2 = [10,20,30]\n",
        "lst3 = [100,200,300]\n",
        "df = pd.DataFrame([lst1,lst2,lst3],columns= [\"first\",'second','third'])\n",
        "print(df)"
      ],
      "metadata": {
        "colab": {
          "base_uri": "https://localhost:8080/"
        },
        "id": "Jk4fUXRwWAF9",
        "outputId": "407cfd9d-4fa1-410f-d298-08af15c8186b"
      },
      "execution_count": null,
      "outputs": [
        {
          "output_type": "stream",
          "name": "stdout",
          "text": [
            "   first  second  third\n",
            "0      1       2      3\n",
            "1     10      20     30\n",
            "2    100     200    300\n"
          ]
        }
      ]
    },
    {
      "cell_type": "code",
      "source": [
        "##  اضيف و ادمج\n",
        "import pandas as pd\n",
        "ls = [[1,2],[3,4],[5,6],[7,8]]\n",
        "ls2 = [[\"h\"],[\"e\"],[\"b\"],[\"a\"]]\n",
        "df1 =pd.DataFrame(ls,columns=['name','age'])\n",
        "df2 =pd.DataFrame(ls2,columns=['name2'])\n",
        "print(df1)\n",
        "print('\\n')\n",
        "print(df2)\n",
        "con = pd.concat([df1,df2],axis=1)\n",
        "print(con)\n",
        "df1.insert(1 , 'heba' ,[1,3,6,9])\n",
        "print(df1)"
      ],
      "metadata": {
        "colab": {
          "base_uri": "https://localhost:8080/"
        },
        "id": "cMiEcO4sWFC3",
        "outputId": "6aee8ef9-eed5-4f18-d6b2-9a9ff5e0b98d"
      },
      "execution_count": null,
      "outputs": [
        {
          "output_type": "stream",
          "name": "stdout",
          "text": [
            "   name  age\n",
            "0     1    2\n",
            "1     3    4\n",
            "2     5    6\n",
            "3     7    8\n",
            "\n",
            "\n",
            "  name2\n",
            "0     h\n",
            "1     e\n",
            "2     b\n",
            "3     a\n",
            "   name  age name2\n",
            "0     1    2     h\n",
            "1     3    4     e\n",
            "2     5    6     b\n",
            "3     7    8     a\n",
            "   name  heba  age\n",
            "0     1     1    2\n",
            "1     3     3    4\n",
            "2     5     6    6\n",
            "3     7     9    8\n"
          ]
        }
      ]
    },
    {
      "cell_type": "code",
      "source": [
        "import pandas as pd\n",
        "data = pd.Series((3,6,9,8,5,4,2,6,3,5,8))\n",
        "print(data.agg(['max','min','sum','mean','std']))"
      ],
      "metadata": {
        "colab": {
          "base_uri": "https://localhost:8080/"
        },
        "id": "wBtZd78qYD5r",
        "outputId": "4840eafc-8c58-4d85-f80f-8214d44c5413"
      },
      "execution_count": null,
      "outputs": [
        {
          "output_type": "stream",
          "name": "stdout",
          "text": [
            "max      9.000000\n",
            "min      2.000000\n",
            "sum     59.000000\n",
            "mean     5.363636\n",
            "std      2.292280\n",
            "dtype: float64\n"
          ]
        }
      ]
    },
    {
      "cell_type": "code",
      "source": [
        "import pandas as pd\n",
        "data = pd.Series((0.25, 0.5, 0.75, 1.0))\n",
        "print(data[1])\n",
        "print(data[1:3])\n",
        "print(data[1:3:2])"
      ],
      "metadata": {
        "colab": {
          "base_uri": "https://localhost:8080/"
        },
        "id": "SQEY3wBgaQE-",
        "outputId": "4613766e-0300-448f-b884-3bf3ebc4642b"
      },
      "execution_count": null,
      "outputs": [
        {
          "output_type": "stream",
          "name": "stdout",
          "text": [
            "0.5\n",
            "1    0.50\n",
            "2    0.75\n",
            "dtype: float64\n",
            "1    0.5\n",
            "dtype: float64\n"
          ]
        }
      ]
    },
    {
      "cell_type": "code",
      "source": [
        "import pandas as pd\n",
        "data1 = pd.Series([1,2,3,4], index=['a', 'b', 'c', 'd'])\n",
        "data2 = pd.Series({'a':1,'b':2,'c':3,'d':4})\n",
        "print(data1)\n",
        "print(data2)\n",
        "print(data1 + data2)"
      ],
      "metadata": {
        "colab": {
          "base_uri": "https://localhost:8080/"
        },
        "id": "bWU7gBR9aT4y",
        "outputId": "d988f477-aa23-4b4c-98ed-e7dbd527f170"
      },
      "execution_count": null,
      "outputs": [
        {
          "output_type": "stream",
          "name": "stdout",
          "text": [
            "a    1\n",
            "b    2\n",
            "c    3\n",
            "d    4\n",
            "dtype: int64\n",
            "a    1\n",
            "b    2\n",
            "c    3\n",
            "d    4\n",
            "dtype: int64\n",
            "a    2\n",
            "b    4\n",
            "c    6\n",
            "d    8\n",
            "dtype: int64\n"
          ]
        }
      ]
    },
    {
      "cell_type": "code",
      "source": [
        "import pandas as pd\n",
        "data1 = pd.Series([1,2,3,4], index=['a', 'b', 'c', 'd'])\n",
        "data2 = pd.Series({'a':1,'b':2,'c':3,'d':4})\n",
        "print(data1['a'])\n",
        "print(data2['b'])"
      ],
      "metadata": {
        "colab": {
          "base_uri": "https://localhost:8080/"
        },
        "id": "WRbX7N5oaYrj",
        "outputId": "d76bb985-9fd4-4381-af77-4ed8787138a3"
      },
      "execution_count": null,
      "outputs": [
        {
          "output_type": "stream",
          "name": "stdout",
          "text": [
            "1\n",
            "2\n"
          ]
        }
      ]
    },
    {
      "cell_type": "code",
      "source": [
        "import pandas as pd\n",
        "x = pd.Index([2,3,7,5,11])\n",
        "print(x)"
      ],
      "metadata": {
        "id": "ICh63PkOalZq",
        "colab": {
          "base_uri": "https://localhost:8080/"
        },
        "outputId": "fe5837e7-1afe-4e1b-d520-55e310b066bb"
      },
      "execution_count": 12,
      "outputs": [
        {
          "output_type": "stream",
          "name": "stdout",
          "text": [
            "Int64Index([2, 3, 7, 5, 11], dtype='int64')\n"
          ]
        }
      ]
    },
    {
      "cell_type": "code",
      "source": [
        "import pandas as pd\n",
        "a = pd.Index([1, 3, 5, 7, 9])\n",
        "b = pd.Index([2, 3, 5, 7, 11])\n",
        "print(\"a= \",a)\n",
        "print(\"b= \",b)\n",
        "print(\"a&b = \",a & b)\n",
        "print(\"a|b = \",a | b)\n",
        "print(\"a^b = \",a ^ b)"
      ],
      "metadata": {
        "colab": {
          "base_uri": "https://localhost:8080/"
        },
        "id": "cGPRTtR8bM8n",
        "outputId": "26013be8-0623-45ab-fa7e-eaf76cb936e6"
      },
      "execution_count": 15,
      "outputs": [
        {
          "output_type": "stream",
          "name": "stdout",
          "text": [
            "a=  Int64Index([1, 3, 5, 7, 9], dtype='int64')\n",
            "b=  Int64Index([2, 3, 5, 7, 11], dtype='int64')\n",
            "a&b =  Int64Index([3, 5, 7], dtype='int64')\n",
            "a|b =  Int64Index([1, 2, 3, 5, 7, 9, 11], dtype='int64')\n",
            "a^b =  Int64Index([1, 2, 9, 11], dtype='int64')\n"
          ]
        },
        {
          "output_type": "stream",
          "name": "stderr",
          "text": [
            "<ipython-input-15-2fdae4930219>:6: FutureWarning: Index.__and__ operating as a set operation is deprecated, in the future this will be a logical operation matching Series.__and__.  Use index.intersection(other) instead.\n",
            "  print(\"a&b = \",a & b)\n",
            "<ipython-input-15-2fdae4930219>:7: FutureWarning: Index.__or__ operating as a set operation is deprecated, in the future this will be a logical operation matching Series.__or__.  Use index.union(other) instead.\n",
            "  print(\"a|b = \",a | b)\n",
            "<ipython-input-15-2fdae4930219>:8: FutureWarning: Index.__xor__ operating as a set operation is deprecated, in the future this will be a logical operation matching Series.__xor__.  Use index.symmetric_difference(other) instead.\n",
            "  print(\"a^b = \",a ^ b)\n"
          ]
        }
      ]
    },
    {
      "cell_type": "code",
      "source": [
        "import pandas as pd\n",
        "data = pd.Series((3,6,9,8,5,4,2,6,3,5,8))\n",
        "data.plot()\n",
        "data.plot(kind='line')"
      ],
      "metadata": {
        "colab": {
          "base_uri": "https://localhost:8080/",
          "height": 447
        },
        "id": "frNqU70KbYCy",
        "outputId": "1626e372-19ac-4608-8a66-b4397093a329"
      },
      "execution_count": 16,
      "outputs": [
        {
          "output_type": "execute_result",
          "data": {
            "text/plain": [
              "<Axes: >"
            ]
          },
          "metadata": {},
          "execution_count": 16
        },
        {
          "output_type": "display_data",
          "data": {
            "text/plain": [
              "<Figure size 640x480 with 1 Axes>"
            ],
            "image/png": "[encoded data removed]"
          },
          "metadata": {}
        }
      ]
    },
    {
      "cell_type": "code",
      "source": [
        "import pandas as pd\n",
        "data = pd.Series((3,6,9,8,5,4,2,6,3,5,8))\n",
        "data.plot(kind='pie')"
      ],
      "metadata": {
        "colab": {
          "base_uri": "https://localhost:8080/",
          "height": 423
        },
        "id": "fcGNLZcMb4Uo",
        "outputId": "375b0191-b143-4159-d13d-00e57d7411d3"
      },
      "execution_count": 17,
      "outputs": [
        {
          "output_type": "execute_result",
          "data": {
            "text/plain": [
              "<Axes: >"
            ]
          },
          "metadata": {},
          "execution_count": 17
        },
        {
          "output_type": "display_data",
          "data": {
            "text/plain": [
              "<Figure size 640x480 with 1 Axes>"
            ],
            "image/png": "[encoded data removed]"
          },
          "metadata": {}
        }
      ]
    },
    {
      "cell_type": "code",
      "source": [
        "import pandas as pd\n",
        "data = pd.Series((3,6,9,8,5,4,2,6,3,5,8))\n",
        "data.plot(kind='bar')"
      ],
      "metadata": {
        "colab": {
          "base_uri": "https://localhost:8080/",
          "height": 450
        },
        "id": "1UbU5ph1b9SY",
        "outputId": "b0133f1c-96f4-437b-e83b-96c664ababae"
      },
      "execution_count": 18,
      "outputs": [
        {
          "output_type": "execute_result",
          "data": {
            "text/plain": [
              "<Axes: >"
            ]
          },
          "metadata": {},
          "execution_count": 18
        },
        {
          "output_type": "display_data",
          "data": {
            "text/plain": [
              "<Figure size 640x480 with 1 Axes>"
            ],
            "image/png": "[encoded data removed]"
          },
          "metadata": {}
        }
      ]
    },
    {
      "cell_type": "code",
      "source": [
        "import pandas as pd\n",
        "data = pd.Series((3,6,9,8,5,4,2,6,3,5,8))\n",
        "data.plot(kind='barh')"
      ],
      "metadata": {
        "colab": {
          "base_uri": "https://localhost:8080/",
          "height": 447
        },
        "id": "2WSgLXtacATS",
        "outputId": "3cbcd8dc-a27f-48bf-8d2f-12ec1d99295e"
      },
      "execution_count": 19,
      "outputs": [
        {
          "output_type": "execute_result",
          "data": {
            "text/plain": [
              "<Axes: >"
            ]
          },
          "metadata": {},
          "execution_count": 19
        },
        {
          "output_type": "display_data",
          "data": {
            "text/plain": [
              "<Figure size 640x480 with 1 Axes>"
            ],
            "image/png": "[encoded data removed]"
          },
          "metadata": {}
        }
      ]
    },
    {
      "cell_type": "code",
      "source": [
        "import pandas as pd\n",
        "data = pd.Series((3,6,9,8,5,4,2,6,3,5,8))\n",
        "data.plot(kind='hist')"
      ],
      "metadata": {
        "colab": {
          "base_uri": "https://localhost:8080/",
          "height": 447
        },
        "id": "GI30llfxcEHY",
        "outputId": "8fa39335-5c03-4f47-9a25-33e8cfac72b5"
      },
      "execution_count": 20,
      "outputs": [
        {
          "output_type": "execute_result",
          "data": {
            "text/plain": [
              "<Axes: ylabel='Frequency'>"
            ]
          },
          "metadata": {},
          "execution_count": 20
        },
        {
          "output_type": "display_data",
          "data": {
            "text/plain": [
              "<Figure size 640x480 with 1 Axes>"
            ],
            "image/png": "[encoded data removed]"
          },
          "metadata": {}
        }
      ]
    },
    {
      "cell_type": "code",
      "source": [
        "import pandas as pd\n",
        "data = pd.Series((3,6,9,8,5,4,2,6,3,5,8))\n",
        "data.plot(kind='box')"
      ],
      "metadata": {
        "colab": {
          "base_uri": "https://localhost:8080/",
          "height": 428
        },
        "id": "1I68mH2hcHMc",
        "outputId": "07005a09-feef-4640-e0db-cb70e0053df5"
      },
      "execution_count": 21,
      "outputs": [
        {
          "output_type": "execute_result",
          "data": {
            "text/plain": [
              "<Axes: >"
            ]
          },
          "metadata": {},
          "execution_count": 21
        },
        {
          "output_type": "display_data",
          "data": {
            "text/plain": [
              "<Figure size 640x480 with 1 Axes>"
            ],
            "image/png": "[encoded data removed]"
          },
          "metadata": {}
        }
      ]
    },
    {
      "cell_type": "code",
      "source": [
        "import pandas as pd\n",
        "data = pd.Series((3,6,9,8,5,4,2,6,3,5,8))\n",
        "data.plot(kind='kde')"
      ],
      "metadata": {
        "colab": {
          "base_uri": "https://localhost:8080/",
          "height": 447
        },
        "id": "hem2aIDBcKHF",
        "outputId": "6a6bee41-23d1-4985-a87e-2436ae1c5f8e"
      },
      "execution_count": 22,
      "outputs": [
        {
          "output_type": "execute_result",
          "data": {
            "text/plain": [
              "<Axes: ylabel='Density'>"
            ]
          },
          "metadata": {},
          "execution_count": 22
        },
        {
          "output_type": "display_data",
          "data": {
            "text/plain": [
              "<Figure size 640x480 with 1 Axes>"
            ],
            "image/png": "[encoded data removed]"
          },
          "metadata": {}
        }
      ]
    },
    {
      "cell_type": "code",
      "source": [
        "import pandas as pd\n",
        "data = pd.Series((3,6,9,8,5,4,2,6,3,5,8))\n",
        "data.plot(kind='density')"
      ],
      "metadata": {
        "colab": {
          "base_uri": "https://localhost:8080/",
          "height": 447
        },
        "id": "sKXQ78g-cNTQ",
        "outputId": "590c7621-af75-4e45-a40d-dc9badcb3a2b"
      },
      "execution_count": 23,
      "outputs": [
        {
          "output_type": "execute_result",
          "data": {
            "text/plain": [
              "<Axes: ylabel='Density'>"
            ]
          },
          "metadata": {},
          "execution_count": 23
        },
        {
          "output_type": "display_data",
          "data": {
            "text/plain": [
              "<Figure size 640x480 with 1 Axes>"
            ],
            "image/png": "[encoded data removed]"
          },
          "metadata": {}
        }
      ]
    },
    {
      "cell_type": "code",
      "source": [
        "import pandas as pd\n",
        "data = pd.Series((3,6,9,8,5,4,2,6,3,5,8))\n",
        "data.plot(kind='area')"
      ],
      "metadata": {
        "colab": {
          "base_uri": "https://localhost:8080/",
          "height": 447
        },
        "id": "aMnWC4x5cQe_",
        "outputId": "adc5b426-5e33-4aba-82e1-12c51389df5b"
      },
      "execution_count": 24,
      "outputs": [
        {
          "output_type": "execute_result",
          "data": {
            "text/plain": [
              "<Axes: >"
            ]
          },
          "metadata": {},
          "execution_count": 24
        },
        {
          "output_type": "display_data",
          "data": {
            "text/plain": [
              "<Figure size 640x480 with 1 Axes>"
            ],
            "image/png": "[encoded data removed]"
          },
          "metadata": {}
        }
      ]
    },
    {
      "cell_type": "markdown",
      "source": [
        "## **DataFrame**"
      ],
      "metadata": {
        "id": "XqXi-AYfctIQ"
      }
    },
    {
      "cell_type": "code",
      "source": [
        "import pandas as pd\n",
        "import numpy as np\n",
        "myarray = np.array([[6,9,8,5,4,2],[0,2,5,6,3,9],\n",
        "                    [8,5,4,1,2,3],[6,9,8,5,4,2],\n",
        "                    [0,5,3,6,9,8],[8,7,4,5,2,3]])\n",
        "rownames = ['a', 'b','c','d','e','f']\n",
        "colnames = ['one', 'two', 'three','four','five','six']\n",
        "df = pd.DataFrame(myarray, index=rownames, columns=colnames)\n",
        "print(df)"
      ],
      "metadata": {
        "colab": {
          "base_uri": "https://localhost:8080/"
        },
        "id": "SB_4XzwucUNH",
        "outputId": "ede780cd-a12f-4312-ae06-c31f9c2b2243"
      },
      "execution_count": 25,
      "outputs": [
        {
          "output_type": "stream",
          "name": "stdout",
          "text": [
            "   one  two  three  four  five  six\n",
            "a    6    9      8     5     4    2\n",
            "b    0    2      5     6     3    9\n",
            "c    8    5      4     1     2    3\n",
            "d    6    9      8     5     4    2\n",
            "e    0    5      3     6     9    8\n",
            "f    8    7      4     5     2    3\n"
          ]
        }
      ]
    },
    {
      "cell_type": "code",
      "source": [
        "import pandas as pd\n",
        "w = pd.Series({'a':1 ,'b':2 ,'c':3 ,'d':4 ,'e':5})\n",
        "x = pd.Series({'a':6 ,'b':7 ,'c':8 ,'d':9 ,'e':10})\n",
        "y = pd.Series({'a':11 ,'b':12 ,'c':13 ,'d':14 ,'e':15})\n",
        "z = pd.Series({'a':16 ,'b':17 ,'c':18 ,'d':19 ,'e':20})\n",
        "grades = pd.DataFrame({'Math':w,'Physics':x,'French':y,'Chemistry':z})\n",
        "print(grades)"
      ],
      "metadata": {
        "colab": {
          "base_uri": "https://localhost:8080/"
        },
        "id": "ChYg0pghc2HW",
        "outputId": "4dfabaf8-5513-4d2b-925e-8c5a3eb0fbb6"
      },
      "execution_count": 26,
      "outputs": [
        {
          "output_type": "stream",
          "name": "stdout",
          "text": [
            "   Math  Physics  French  Chemistry\n",
            "a     1        6      11         16\n",
            "b     2        7      12         17\n",
            "c     3        8      13         18\n",
            "d     4        9      14         19\n",
            "e     5       10      15         20\n"
          ]
        }
      ]
    },
    {
      "cell_type": "code",
      "source": [
        "print(grades['Chemistry'])"
      ],
      "metadata": {
        "colab": {
          "base_uri": "https://localhost:8080/"
        },
        "id": "qx5pl-2sc-MP",
        "outputId": "09dfb71c-ab22-4cf8-d80b-f71354300242"
      },
      "execution_count": 28,
      "outputs": [
        {
          "output_type": "stream",
          "name": "stdout",
          "text": [
            "a    16\n",
            "b    17\n",
            "c    18\n",
            "d    19\n",
            "e    20\n",
            "Name: Chemistry, dtype: int64\n"
          ]
        }
      ]
    },
    {
      "cell_type": "code",
      "source": [
        "print(grades.T)"
      ],
      "metadata": {
        "colab": {
          "base_uri": "https://localhost:8080/"
        },
        "id": "jWuRD_TydE6c",
        "outputId": "016feb76-ee4b-482c-d476-6d9d1ee483cb"
      },
      "execution_count": 29,
      "outputs": [
        {
          "output_type": "stream",
          "name": "stdout",
          "text": [
            "            a   b   c   d   e\n",
            "Math        1   2   3   4   5\n",
            "Physics     6   7   8   9  10\n",
            "French     11  12  13  14  15\n",
            "Chemistry  16  17  18  19  20\n"
          ]
        }
      ]
    },
    {
      "cell_type": "code",
      "source": [
        "print(grades.keys())\n",
        "print(grades.values)"
      ],
      "metadata": {
        "colab": {
          "base_uri": "https://localhost:8080/"
        },
        "id": "ibSmFXu6dNx8",
        "outputId": "06382a74-2c48-4e95-9f18-8c2dfc831446"
      },
      "execution_count": 30,
      "outputs": [
        {
          "output_type": "stream",
          "name": "stdout",
          "text": [
            "Index(['Math', 'Physics', 'French', 'Chemistry'], dtype='object')\n",
            "[[ 1  6 11 16]\n",
            " [ 2  7 12 17]\n",
            " [ 3  8 13 18]\n",
            " [ 4  9 14 19]\n",
            " [ 5 10 15 20]]\n"
          ]
        }
      ]
    },
    {
      "cell_type": "code",
      "source": [
        "print('Math' in grades.keys())\n",
        "print('math' in grades.keys())\n",
        "print(12 in grades.values)\n",
        "print(55 in grades.values)"
      ],
      "metadata": {
        "colab": {
          "base_uri": "https://localhost:8080/"
        },
        "id": "9cOMcF9VdTTv",
        "outputId": "65bcb1c5-7598-4793-e3fc-7ae01ae43117"
      },
      "execution_count": 31,
      "outputs": [
        {
          "output_type": "stream",
          "name": "stdout",
          "text": [
            "True\n",
            "False\n",
            "True\n",
            "False\n"
          ]
        }
      ]
    },
    {
      "cell_type": "code",
      "source": [
        "print(grades.stack())"
      ],
      "metadata": {
        "colab": {
          "base_uri": "https://localhost:8080/"
        },
        "id": "5jme5ThidZRM",
        "outputId": "b6fd73c7-8e53-4f7b-88db-28e3cad3350a"
      },
      "execution_count": 32,
      "outputs": [
        {
          "output_type": "stream",
          "name": "stdout",
          "text": [
            "a  Math          1\n",
            "   Physics       6\n",
            "   French       11\n",
            "   Chemistry    16\n",
            "b  Math          2\n",
            "   Physics       7\n",
            "   French       12\n",
            "   Chemistry    17\n",
            "c  Math          3\n",
            "   Physics       8\n",
            "   French       13\n",
            "   Chemistry    18\n",
            "d  Math          4\n",
            "   Physics       9\n",
            "   French       14\n",
            "   Chemistry    19\n",
            "e  Math          5\n",
            "   Physics      10\n",
            "   French       15\n",
            "   Chemistry    20\n",
            "dtype: int64\n"
          ]
        }
      ]
    },
    {
      "cell_type": "code",
      "source": [
        "print(grades.iloc[:3, :2])"
      ],
      "metadata": {
        "colab": {
          "base_uri": "https://localhost:8080/"
        },
        "id": "qdDBNhWodeRB",
        "outputId": "53608d84-f5b8-4f4e-ab85-0d8b597f536a"
      },
      "execution_count": 33,
      "outputs": [
        {
          "output_type": "stream",
          "name": "stdout",
          "text": [
            "   Math  Physics\n",
            "a     1        6\n",
            "b     2        7\n",
            "c     3        8\n"
          ]
        }
      ]
    },
    {
      "cell_type": "code",
      "source": [
        "print(grades.loc['b':'c', 'Math':])"
      ],
      "metadata": {
        "colab": {
          "base_uri": "https://localhost:8080/"
        },
        "id": "qapt9xOldkY5",
        "outputId": "c5ecc62a-0492-4001-af58-1b0f57da612c"
      },
      "execution_count": 34,
      "outputs": [
        {
          "output_type": "stream",
          "name": "stdout",
          "text": [
            "   Math  Physics  French  Chemistry\n",
            "b     2        7      12         17\n",
            "c     3        8      13         18\n"
          ]
        }
      ]
    },
    {
      "cell_type": "code",
      "source": [
        "print(grades.loc[grades.Math >3])"
      ],
      "metadata": {
        "colab": {
          "base_uri": "https://localhost:8080/"
        },
        "id": "JJ-z1O4hdpWA",
        "outputId": "9ec7378d-79c6-483f-a792-f7d462f20f39"
      },
      "execution_count": 35,
      "outputs": [
        {
          "output_type": "stream",
          "name": "stdout",
          "text": [
            "   Math  Physics  French  Chemistry\n",
            "d     4        9      14         19\n",
            "e     5       10      15         20\n"
          ]
        }
      ]
    },
    {
      "cell_type": "code",
      "source": [
        "print(grades.loc[grades.Math >3,['French' ,'Math']])"
      ],
      "metadata": {
        "colab": {
          "base_uri": "https://localhost:8080/"
        },
        "id": "7cZ3Q5aJdtd1",
        "outputId": "dd08b049-e429-468e-b478-2982f26590ca"
      },
      "execution_count": 36,
      "outputs": [
        {
          "output_type": "stream",
          "name": "stdout",
          "text": [
            "   French  Math\n",
            "d      14     4\n",
            "e      15     5\n"
          ]
        }
      ]
    },
    {
      "cell_type": "code",
      "source": [
        "print(grades.columns)\n",
        "print(grades.index)"
      ],
      "metadata": {
        "colab": {
          "base_uri": "https://localhost:8080/"
        },
        "id": "nxxpbrEIdyVe",
        "outputId": "0d53bcb7-042f-47ae-a492-434492667d20"
      },
      "execution_count": 38,
      "outputs": [
        {
          "output_type": "stream",
          "name": "stdout",
          "text": [
            "Index(['Math', 'Physics', 'French', 'Chemistry'], dtype='object')\n",
            "Index(['a', 'b', 'c', 'd', 'e'], dtype='object')\n"
          ]
        }
      ]
    },
    {
      "cell_type": "code",
      "source": [
        "print(grades['Math'])"
      ],
      "metadata": {
        "colab": {
          "base_uri": "https://localhost:8080/"
        },
        "id": "Z5k_hd28eXW0",
        "outputId": "4feeaa47-83d1-4a1b-ecca-ce2f74ccbc6e"
      },
      "execution_count": 39,
      "outputs": [
        {
          "output_type": "stream",
          "name": "stdout",
          "text": [
            "a    1\n",
            "b    2\n",
            "c    3\n",
            "d    4\n",
            "e    5\n",
            "Name: Math, dtype: int64\n"
          ]
        }
      ]
    },
    {
      "cell_type": "code",
      "source": [
        "print(grades.sort_values(['Math'],ascending= False))\n",
        "print(grades.sort_values(['French'],ascending= True))"
      ],
      "metadata": {
        "colab": {
          "base_uri": "https://localhost:8080/"
        },
        "id": "kSt6za5Meddd",
        "outputId": "fdee8e1d-d266-4bba-913e-5dcad018bcb2"
      },
      "execution_count": 40,
      "outputs": [
        {
          "output_type": "stream",
          "name": "stdout",
          "text": [
            "   Math  Physics  French  Chemistry\n",
            "e     5       10      15         20\n",
            "d     4        9      14         19\n",
            "c     3        8      13         18\n",
            "b     2        7      12         17\n",
            "a     1        6      11         16\n",
            "   Math  Physics  French  Chemistry\n",
            "a     1        6      11         16\n",
            "b     2        7      12         17\n",
            "c     3        8      13         18\n",
            "d     4        9      14         19\n",
            "e     5       10      15         20\n"
          ]
        }
      ]
    },
    {
      "cell_type": "code",
      "source": [
        "print(\"max = \",grades.max())\n",
        "print(\"min= \",grades.min())\n",
        "print(\"mean =\",grades.mean())\n",
        "print(\"std = \",grades.std())"
      ],
      "metadata": {
        "colab": {
          "base_uri": "https://localhost:8080/"
        },
        "id": "JO5W8EGWehk6",
        "outputId": "77d99eb1-0ce8-40ca-9946-ab00d974b362"
      },
      "execution_count": 43,
      "outputs": [
        {
          "output_type": "stream",
          "name": "stdout",
          "text": [
            "max =  Math          5\n",
            "Physics      10\n",
            "French       15\n",
            "Chemistry    20\n",
            "dtype: int64\n",
            "min=  Math          1\n",
            "Physics       6\n",
            "French       11\n",
            "Chemistry    16\n",
            "dtype: int64\n",
            "mean = Math          3.0\n",
            "Physics       8.0\n",
            "French       13.0\n",
            "Chemistry    18.0\n",
            "dtype: float64\n",
            "std =  Math         1.581139\n",
            "Physics      1.581139\n",
            "French       1.581139\n",
            "Chemistry    1.581139\n",
            "dtype: float64\n"
          ]
        }
      ]
    },
    {
      "cell_type": "code",
      "source": [
        "print(grades['Math'].max())\n",
        "print(grades['French'].min())\n",
        "print(grades['Physics'].mean())\n",
        "print(grades['Chemistry'].std())"
      ],
      "metadata": {
        "colab": {
          "base_uri": "https://localhost:8080/"
        },
        "id": "EJCTYtAMemJH",
        "outputId": "b1f031e8-ae9d-4fe3-b611-c80c40819ab4"
      },
      "execution_count": 44,
      "outputs": [
        {
          "output_type": "stream",
          "name": "stdout",
          "text": [
            "5\n",
            "11\n",
            "8.0\n",
            "1.5811388300841898\n"
          ]
        }
      ]
    },
    {
      "cell_type": "code",
      "source": [
        "import pandas as pd\n",
        "import numpy as np\n",
        "df = pd.DataFrame(np.random.rand(5, 3), columns=['A', 'B', 'C'])\n",
        "print(df)\n",
        "print(df.corr())"
      ],
      "metadata": {
        "colab": {
          "base_uri": "https://localhost:8080/"
        },
        "id": "YaJD0FYce-dt",
        "outputId": "c1ddcc44-cb20-48bd-cdc2-cd36411c4ccd"
      },
      "execution_count": 45,
      "outputs": [
        {
          "output_type": "stream",
          "name": "stdout",
          "text": [
            "          A         B         C\n",
            "0  0.958416  0.504124  0.128070\n",
            "1  0.404356  0.489784  0.307401\n",
            "2  0.829700  0.365919  0.548025\n",
            "3  0.244105  0.220536  0.086077\n",
            "4  0.344637  0.123226  0.474945\n",
            "          A         B         C\n",
            "A  1.000000  0.631298  0.105390\n",
            "B  0.631298  1.000000 -0.242559\n",
            "C  0.105390 -0.242559  1.000000\n"
          ]
        }
      ]
    },
    {
      "cell_type": "code",
      "source": [],
      "metadata": {
        "id": "OoOnbZiMfBdr"
      },
      "execution_count": null,
      "outputs": []
    }
  ]
}